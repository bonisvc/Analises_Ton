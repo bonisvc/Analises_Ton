{
 "cells": [
  {
   "cell_type": "markdown",
   "id": "f160160f",
   "metadata": {},
   "source": [
    "# Análise de informações de atendimento aos chamados de clientes Stone"
   ]
  },
  {
   "cell_type": "markdown",
   "id": "d5372191",
   "metadata": {},
   "source": [
    "### (1) Importando as bibliotecas necessárias"
   ]
  },
  {
   "cell_type": "code",
   "execution_count": 1,
   "id": "0f5ec273",
   "metadata": {},
   "outputs": [],
   "source": [
    "import pandas as pd\n",
    "import numpy as np\n",
    "import matplotlib.pyplot as plt\n",
    "import seaborn as sns\n",
    "from sklearn.cluster import KMeans, DBSCAN\n",
    "from datetime import datetime, timedelta\n",
    "from scipy import stats\n",
    "import dataframe_image as dfi\n",
    "import gower"
   ]
  },
  {
   "cell_type": "markdown",
   "id": "220c75f6",
   "metadata": {},
   "source": [
    "### (2) Carregando a base de dados e entendendo sua estrutura"
   ]
  },
  {
   "cell_type": "markdown",
   "id": "b52ffea8",
   "metadata": {},
   "source": [
    "#### 2.1. Carregando as bases de dados"
   ]
  },
  {
   "cell_type": "code",
   "execution_count": 2,
   "id": "fbf2c33e",
   "metadata": {},
   "outputs": [],
   "source": [
    "cases = pd.read_csv(\"cases.csv\", sep=',')\n",
    "creds = pd.read_csv(\"creds.csv\", sep=',')"
   ]
  },
  {
   "cell_type": "markdown",
   "id": "d44fa359",
   "metadata": {},
   "source": [
    "#### 2.2. Analisando a aparência das bases dados e sua estruturação"
   ]
  },
  {
   "cell_type": "code",
   "execution_count": 3,
   "id": "76f97301",
   "metadata": {},
   "outputs": [
    {
     "data": {
      "text/html": [
       "<div>\n",
       "<style scoped>\n",
       "    .dataframe tbody tr th:only-of-type {\n",
       "        vertical-align: middle;\n",
       "    }\n",
       "\n",
       "    .dataframe tbody tr th {\n",
       "        vertical-align: top;\n",
       "    }\n",
       "\n",
       "    .dataframe thead th {\n",
       "        text-align: right;\n",
       "    }\n",
       "</style>\n",
       "<table border=\"1\" class=\"dataframe\">\n",
       "  <thead>\n",
       "    <tr style=\"text-align: right;\">\n",
       "      <th></th>\n",
       "      <th>Unnamed: 0</th>\n",
       "      <th>accountid</th>\n",
       "      <th>date_ref</th>\n",
       "      <th>channelid</th>\n",
       "      <th>waitingtime</th>\n",
       "      <th>missed</th>\n",
       "      <th>pesquisa_de_satisfa_o__c</th>\n",
       "      <th>assunto</th>\n",
       "      <th>Id</th>\n",
       "    </tr>\n",
       "  </thead>\n",
       "  <tbody>\n",
       "    <tr>\n",
       "      <th>0</th>\n",
       "      <td>0</td>\n",
       "      <td>NaN</td>\n",
       "      <td>NaN</td>\n",
       "      <td>NaN</td>\n",
       "      <td>NaN</td>\n",
       "      <td>NaN</td>\n",
       "      <td>NaN</td>\n",
       "      <td>NaN</td>\n",
       "      <td>NaN</td>\n",
       "    </tr>\n",
       "    <tr>\n",
       "      <th>1</th>\n",
       "      <td>1</td>\n",
       "      <td>NaN</td>\n",
       "      <td>NaN</td>\n",
       "      <td>NaN</td>\n",
       "      <td>NaN</td>\n",
       "      <td>NaN</td>\n",
       "      <td>NaN</td>\n",
       "      <td>NaN</td>\n",
       "      <td>NaN</td>\n",
       "    </tr>\n",
       "    <tr>\n",
       "      <th>2</th>\n",
       "      <td>2</td>\n",
       "      <td>NaN</td>\n",
       "      <td>NaN</td>\n",
       "      <td>NaN</td>\n",
       "      <td>NaN</td>\n",
       "      <td>NaN</td>\n",
       "      <td>NaN</td>\n",
       "      <td>NaN</td>\n",
       "      <td>NaN</td>\n",
       "    </tr>\n",
       "    <tr>\n",
       "      <th>3</th>\n",
       "      <td>3</td>\n",
       "      <td>NaN</td>\n",
       "      <td>NaN</td>\n",
       "      <td>NaN</td>\n",
       "      <td>NaN</td>\n",
       "      <td>NaN</td>\n",
       "      <td>NaN</td>\n",
       "      <td>NaN</td>\n",
       "      <td>NaN</td>\n",
       "    </tr>\n",
       "    <tr>\n",
       "      <th>4</th>\n",
       "      <td>4</td>\n",
       "      <td>0013j00002z0CeEAAU</td>\n",
       "      <td>2020-07-31</td>\n",
       "      <td>2.0</td>\n",
       "      <td>15.0</td>\n",
       "      <td>False</td>\n",
       "      <td>NaN</td>\n",
       "      <td>Aplicativo:Dúvidas funcionalidades App:Primeir...</td>\n",
       "      <td>0013j00002z0CeEAAU</td>\n",
       "    </tr>\n",
       "  </tbody>\n",
       "</table>\n",
       "</div>"
      ],
      "text/plain": [
       "   Unnamed: 0           accountid    date_ref  channelid  waitingtime missed  \\\n",
       "0           0                 NaN         NaN        NaN          NaN    NaN   \n",
       "1           1                 NaN         NaN        NaN          NaN    NaN   \n",
       "2           2                 NaN         NaN        NaN          NaN    NaN   \n",
       "3           3                 NaN         NaN        NaN          NaN    NaN   \n",
       "4           4  0013j00002z0CeEAAU  2020-07-31        2.0         15.0  False   \n",
       "\n",
       "  pesquisa_de_satisfa_o__c                                            assunto  \\\n",
       "0                      NaN                                                NaN   \n",
       "1                      NaN                                                NaN   \n",
       "2                      NaN                                                NaN   \n",
       "3                      NaN                                                NaN   \n",
       "4                      NaN  Aplicativo:Dúvidas funcionalidades App:Primeir...   \n",
       "\n",
       "                   Id  \n",
       "0                 NaN  \n",
       "1                 NaN  \n",
       "2                 NaN  \n",
       "3                 NaN  \n",
       "4  0013j00002z0CeEAAU  "
      ]
     },
     "execution_count": 3,
     "metadata": {},
     "output_type": "execute_result"
    }
   ],
   "source": [
    "cases.head()"
   ]
  },
  {
   "cell_type": "code",
   "execution_count": 4,
   "id": "daa8d7bb",
   "metadata": {},
   "outputs": [
    {
     "data": {
      "text/html": [
       "<div>\n",
       "<style scoped>\n",
       "    .dataframe tbody tr th:only-of-type {\n",
       "        vertical-align: middle;\n",
       "    }\n",
       "\n",
       "    .dataframe tbody tr th {\n",
       "        vertical-align: top;\n",
       "    }\n",
       "\n",
       "    .dataframe thead th {\n",
       "        text-align: right;\n",
       "    }\n",
       "</style>\n",
       "<table border=\"1\" class=\"dataframe\">\n",
       "  <thead>\n",
       "    <tr style=\"text-align: right;\">\n",
       "      <th></th>\n",
       "      <th>Unnamed: 0</th>\n",
       "      <th>cred_date</th>\n",
       "      <th>shipping_address_city</th>\n",
       "      <th>shipping_address_state</th>\n",
       "      <th>max_machine</th>\n",
       "      <th>accountid</th>\n",
       "    </tr>\n",
       "  </thead>\n",
       "  <tbody>\n",
       "    <tr>\n",
       "      <th>0</th>\n",
       "      <td>0</td>\n",
       "      <td>2020-04-18</td>\n",
       "      <td>Feira de Santana</td>\n",
       "      <td>BA</td>\n",
       "      <td>T1</td>\n",
       "      <td>NaN</td>\n",
       "    </tr>\n",
       "    <tr>\n",
       "      <th>1</th>\n",
       "      <td>1</td>\n",
       "      <td>2020-10-16</td>\n",
       "      <td>Bacuri</td>\n",
       "      <td>MA</td>\n",
       "      <td>T1</td>\n",
       "      <td>NaN</td>\n",
       "    </tr>\n",
       "    <tr>\n",
       "      <th>2</th>\n",
       "      <td>2</td>\n",
       "      <td>2020-09-01</td>\n",
       "      <td>Bernardo Sayão</td>\n",
       "      <td>TO</td>\n",
       "      <td>T1</td>\n",
       "      <td>NaN</td>\n",
       "    </tr>\n",
       "    <tr>\n",
       "      <th>3</th>\n",
       "      <td>3</td>\n",
       "      <td>2020-08-29</td>\n",
       "      <td>Rio de Janeiro</td>\n",
       "      <td>RJ</td>\n",
       "      <td>T3</td>\n",
       "      <td>NaN</td>\n",
       "    </tr>\n",
       "    <tr>\n",
       "      <th>4</th>\n",
       "      <td>4</td>\n",
       "      <td>2020-07-28</td>\n",
       "      <td>São Gonçalo</td>\n",
       "      <td>RJ</td>\n",
       "      <td>T3</td>\n",
       "      <td>0013j00002z0CeEAAU</td>\n",
       "    </tr>\n",
       "  </tbody>\n",
       "</table>\n",
       "</div>"
      ],
      "text/plain": [
       "   Unnamed: 0   cred_date shipping_address_city shipping_address_state  \\\n",
       "0           0  2020-04-18      Feira de Santana                     BA   \n",
       "1           1  2020-10-16                Bacuri                     MA   \n",
       "2           2  2020-09-01        Bernardo Sayão                     TO   \n",
       "3           3  2020-08-29        Rio de Janeiro                     RJ   \n",
       "4           4  2020-07-28           São Gonçalo                     RJ   \n",
       "\n",
       "  max_machine           accountid  \n",
       "0          T1                 NaN  \n",
       "1          T1                 NaN  \n",
       "2          T1                 NaN  \n",
       "3          T3                 NaN  \n",
       "4          T3  0013j00002z0CeEAAU  "
      ]
     },
     "execution_count": 4,
     "metadata": {},
     "output_type": "execute_result"
    }
   ],
   "source": [
    "creds.head()"
   ]
  },
  {
   "cell_type": "code",
   "execution_count": 5,
   "id": "c5589d0f",
   "metadata": {},
   "outputs": [
    {
     "name": "stdout",
     "output_type": "stream",
     "text": [
      "<class 'pandas.core.frame.DataFrame'>\n",
      "RangeIndex: 126989 entries, 0 to 126988\n",
      "Data columns (total 9 columns):\n",
      " #   Column                    Non-Null Count   Dtype  \n",
      "---  ------                    --------------   -----  \n",
      " 0   Unnamed: 0                126989 non-null  int64  \n",
      " 1   accountid                 77489 non-null   object \n",
      " 2   date_ref                  77489 non-null   object \n",
      " 3   channelid                 77489 non-null   float64\n",
      " 4   waitingtime               77489 non-null   float64\n",
      " 5   missed                    77489 non-null   object \n",
      " 6   pesquisa_de_satisfa_o__c  11585 non-null   object \n",
      " 7   assunto                   77489 non-null   object \n",
      " 8   Id                        77489 non-null   object \n",
      "dtypes: float64(2), int64(1), object(6)\n",
      "memory usage: 8.7+ MB\n"
     ]
    }
   ],
   "source": [
    "cases.info()"
   ]
  },
  {
   "cell_type": "code",
   "execution_count": 6,
   "id": "2c4bb1a5",
   "metadata": {},
   "outputs": [
    {
     "name": "stdout",
     "output_type": "stream",
     "text": [
      "<class 'pandas.core.frame.DataFrame'>\n",
      "RangeIndex: 126989 entries, 0 to 126988\n",
      "Data columns (total 6 columns):\n",
      " #   Column                  Non-Null Count   Dtype \n",
      "---  ------                  --------------   ----- \n",
      " 0   Unnamed: 0              126989 non-null  int64 \n",
      " 1   cred_date               126989 non-null  object\n",
      " 2   shipping_address_city   126989 non-null  object\n",
      " 3   shipping_address_state  126989 non-null  object\n",
      " 4   max_machine             126989 non-null  object\n",
      " 5   accountid               77489 non-null   object\n",
      "dtypes: int64(1), object(5)\n",
      "memory usage: 5.8+ MB\n"
     ]
    }
   ],
   "source": [
    "creds.info()"
   ]
  },
  {
   "cell_type": "markdown",
   "id": "fb00bbf2",
   "metadata": {},
   "source": [
    "### (3) Tratando as bases de dados"
   ]
  },
  {
   "cell_type": "markdown",
   "id": "865e602d",
   "metadata": {},
   "source": [
    "#### 3.1 Base de dados de Chamados"
   ]
  },
  {
   "cell_type": "markdown",
   "id": "63f677d3",
   "metadata": {},
   "source": [
    "> A base de dados veio com um índice importado, vamos remover a coluna referente a esse índice e, após isso, remover todas as linhas que contiverem apenas valores NaN"
   ]
  },
  {
   "cell_type": "code",
   "execution_count": 7,
   "id": "2b5eb39c",
   "metadata": {},
   "outputs": [],
   "source": [
    "cases.drop('Unnamed: 0', \n",
    "           axis=1, \n",
    "           inplace=True) #removendo a coluna"
   ]
  },
  {
   "cell_type": "code",
   "execution_count": 8,
   "id": "6e2edcfb",
   "metadata": {},
   "outputs": [],
   "source": [
    "cases.dropna(axis=0, \n",
    "             how='all',\n",
    "             inplace=True) #removendo as linhas apenas com valores NaN"
   ]
  },
  {
   "cell_type": "code",
   "execution_count": 9,
   "id": "30e91e70",
   "metadata": {},
   "outputs": [
    {
     "data": {
      "text/html": [
       "<div>\n",
       "<style scoped>\n",
       "    .dataframe tbody tr th:only-of-type {\n",
       "        vertical-align: middle;\n",
       "    }\n",
       "\n",
       "    .dataframe tbody tr th {\n",
       "        vertical-align: top;\n",
       "    }\n",
       "\n",
       "    .dataframe thead th {\n",
       "        text-align: right;\n",
       "    }\n",
       "</style>\n",
       "<table border=\"1\" class=\"dataframe\">\n",
       "  <thead>\n",
       "    <tr style=\"text-align: right;\">\n",
       "      <th></th>\n",
       "      <th>accountid</th>\n",
       "      <th>date_ref</th>\n",
       "      <th>channelid</th>\n",
       "      <th>waitingtime</th>\n",
       "      <th>missed</th>\n",
       "      <th>pesquisa_de_satisfa_o__c</th>\n",
       "      <th>assunto</th>\n",
       "      <th>Id</th>\n",
       "    </tr>\n",
       "  </thead>\n",
       "  <tbody>\n",
       "    <tr>\n",
       "      <th>4</th>\n",
       "      <td>0013j00002z0CeEAAU</td>\n",
       "      <td>2020-07-31</td>\n",
       "      <td>2.0</td>\n",
       "      <td>15.0</td>\n",
       "      <td>False</td>\n",
       "      <td>NaN</td>\n",
       "      <td>Aplicativo:Dúvidas funcionalidades App:Primeir...</td>\n",
       "      <td>0013j00002z0CeEAAU</td>\n",
       "    </tr>\n",
       "    <tr>\n",
       "      <th>5</th>\n",
       "      <td>0013j00002z0CeEAAU</td>\n",
       "      <td>2020-07-31</td>\n",
       "      <td>2.0</td>\n",
       "      <td>15.0</td>\n",
       "      <td>False</td>\n",
       "      <td>NaN</td>\n",
       "      <td>Produto:S920:Ativação</td>\n",
       "      <td>0013j00002z0CeEAAU</td>\n",
       "    </tr>\n",
       "    <tr>\n",
       "      <th>6</th>\n",
       "      <td>0013j00002z0CeEAAU</td>\n",
       "      <td>2020-09-23</td>\n",
       "      <td>2.0</td>\n",
       "      <td>1.0</td>\n",
       "      <td>False</td>\n",
       "      <td>NaN</td>\n",
       "      <td>Produto:Cartão pré-pago:Dúvidas</td>\n",
       "      <td>0013j00002z0CeEAAU</td>\n",
       "    </tr>\n",
       "    <tr>\n",
       "      <th>7</th>\n",
       "      <td>0013j00002zQgldAAC</td>\n",
       "      <td>2020-08-29</td>\n",
       "      <td>2.0</td>\n",
       "      <td>6.0</td>\n",
       "      <td>False</td>\n",
       "      <td>NaN</td>\n",
       "      <td>Logística:Envio de Cartão:Tracking</td>\n",
       "      <td>0013j00002zQgldAAC</td>\n",
       "    </tr>\n",
       "    <tr>\n",
       "      <th>8</th>\n",
       "      <td>0013j00002zQgldAAC</td>\n",
       "      <td>2020-08-29</td>\n",
       "      <td>2.0</td>\n",
       "      <td>6.0</td>\n",
       "      <td>False</td>\n",
       "      <td>NaN</td>\n",
       "      <td>Pedido:Cancelamento:Outros</td>\n",
       "      <td>0013j00002zQgldAAC</td>\n",
       "    </tr>\n",
       "  </tbody>\n",
       "</table>\n",
       "</div>"
      ],
      "text/plain": [
       "            accountid    date_ref  channelid  waitingtime missed  \\\n",
       "4  0013j00002z0CeEAAU  2020-07-31        2.0         15.0  False   \n",
       "5  0013j00002z0CeEAAU  2020-07-31        2.0         15.0  False   \n",
       "6  0013j00002z0CeEAAU  2020-09-23        2.0          1.0  False   \n",
       "7  0013j00002zQgldAAC  2020-08-29        2.0          6.0  False   \n",
       "8  0013j00002zQgldAAC  2020-08-29        2.0          6.0  False   \n",
       "\n",
       "  pesquisa_de_satisfa_o__c                                            assunto  \\\n",
       "4                      NaN  Aplicativo:Dúvidas funcionalidades App:Primeir...   \n",
       "5                      NaN                              Produto:S920:Ativação   \n",
       "6                      NaN                    Produto:Cartão pré-pago:Dúvidas   \n",
       "7                      NaN                 Logística:Envio de Cartão:Tracking   \n",
       "8                      NaN                         Pedido:Cancelamento:Outros   \n",
       "\n",
       "                   Id  \n",
       "4  0013j00002z0CeEAAU  \n",
       "5  0013j00002z0CeEAAU  \n",
       "6  0013j00002z0CeEAAU  \n",
       "7  0013j00002zQgldAAC  \n",
       "8  0013j00002zQgldAAC  "
      ]
     },
     "execution_count": 9,
     "metadata": {},
     "output_type": "execute_result"
    }
   ],
   "source": [
    "cases.head()"
   ]
  },
  {
   "cell_type": "markdown",
   "id": "1696262f",
   "metadata": {},
   "source": [
    "> Avaliando se os valores das colunas accountid e Id são iguais e, caso positivo, removendo uma das colunas desnecessárias"
   ]
  },
  {
   "cell_type": "code",
   "execution_count": 10,
   "id": "fb4e4564",
   "metadata": {},
   "outputs": [
    {
     "data": {
      "text/plain": [
       "array([ True])"
      ]
     },
     "execution_count": 10,
     "metadata": {},
     "output_type": "execute_result"
    }
   ],
   "source": [
    "(cases['accountid'] == cases['Id']).unique() #comparando as colunas e retornando os valores exclusivos presentes no array"
   ]
  },
  {
   "cell_type": "code",
   "execution_count": 11,
   "id": "2d977cd0",
   "metadata": {},
   "outputs": [],
   "source": [
    "cases.drop('Id',\n",
    "           axis=1,\n",
    "           inplace=True) #removendo a coluna Id"
   ]
  },
  {
   "cell_type": "code",
   "execution_count": 12,
   "id": "1283526e",
   "metadata": {},
   "outputs": [
    {
     "data": {
      "text/html": [
       "<div>\n",
       "<style scoped>\n",
       "    .dataframe tbody tr th:only-of-type {\n",
       "        vertical-align: middle;\n",
       "    }\n",
       "\n",
       "    .dataframe tbody tr th {\n",
       "        vertical-align: top;\n",
       "    }\n",
       "\n",
       "    .dataframe thead th {\n",
       "        text-align: right;\n",
       "    }\n",
       "</style>\n",
       "<table border=\"1\" class=\"dataframe\">\n",
       "  <thead>\n",
       "    <tr style=\"text-align: right;\">\n",
       "      <th></th>\n",
       "      <th>accountid</th>\n",
       "      <th>date_ref</th>\n",
       "      <th>channelid</th>\n",
       "      <th>waitingtime</th>\n",
       "      <th>missed</th>\n",
       "      <th>pesquisa_de_satisfa_o__c</th>\n",
       "      <th>assunto</th>\n",
       "    </tr>\n",
       "  </thead>\n",
       "  <tbody>\n",
       "    <tr>\n",
       "      <th>4</th>\n",
       "      <td>0013j00002z0CeEAAU</td>\n",
       "      <td>2020-07-31</td>\n",
       "      <td>2.0</td>\n",
       "      <td>15.0</td>\n",
       "      <td>False</td>\n",
       "      <td>NaN</td>\n",
       "      <td>Aplicativo:Dúvidas funcionalidades App:Primeir...</td>\n",
       "    </tr>\n",
       "    <tr>\n",
       "      <th>5</th>\n",
       "      <td>0013j00002z0CeEAAU</td>\n",
       "      <td>2020-07-31</td>\n",
       "      <td>2.0</td>\n",
       "      <td>15.0</td>\n",
       "      <td>False</td>\n",
       "      <td>NaN</td>\n",
       "      <td>Produto:S920:Ativação</td>\n",
       "    </tr>\n",
       "    <tr>\n",
       "      <th>6</th>\n",
       "      <td>0013j00002z0CeEAAU</td>\n",
       "      <td>2020-09-23</td>\n",
       "      <td>2.0</td>\n",
       "      <td>1.0</td>\n",
       "      <td>False</td>\n",
       "      <td>NaN</td>\n",
       "      <td>Produto:Cartão pré-pago:Dúvidas</td>\n",
       "    </tr>\n",
       "    <tr>\n",
       "      <th>7</th>\n",
       "      <td>0013j00002zQgldAAC</td>\n",
       "      <td>2020-08-29</td>\n",
       "      <td>2.0</td>\n",
       "      <td>6.0</td>\n",
       "      <td>False</td>\n",
       "      <td>NaN</td>\n",
       "      <td>Logística:Envio de Cartão:Tracking</td>\n",
       "    </tr>\n",
       "    <tr>\n",
       "      <th>8</th>\n",
       "      <td>0013j00002zQgldAAC</td>\n",
       "      <td>2020-08-29</td>\n",
       "      <td>2.0</td>\n",
       "      <td>6.0</td>\n",
       "      <td>False</td>\n",
       "      <td>NaN</td>\n",
       "      <td>Pedido:Cancelamento:Outros</td>\n",
       "    </tr>\n",
       "  </tbody>\n",
       "</table>\n",
       "</div>"
      ],
      "text/plain": [
       "            accountid    date_ref  channelid  waitingtime missed  \\\n",
       "4  0013j00002z0CeEAAU  2020-07-31        2.0         15.0  False   \n",
       "5  0013j00002z0CeEAAU  2020-07-31        2.0         15.0  False   \n",
       "6  0013j00002z0CeEAAU  2020-09-23        2.0          1.0  False   \n",
       "7  0013j00002zQgldAAC  2020-08-29        2.0          6.0  False   \n",
       "8  0013j00002zQgldAAC  2020-08-29        2.0          6.0  False   \n",
       "\n",
       "  pesquisa_de_satisfa_o__c                                            assunto  \n",
       "4                      NaN  Aplicativo:Dúvidas funcionalidades App:Primeir...  \n",
       "5                      NaN                              Produto:S920:Ativação  \n",
       "6                      NaN                    Produto:Cartão pré-pago:Dúvidas  \n",
       "7                      NaN                 Logística:Envio de Cartão:Tracking  \n",
       "8                      NaN                         Pedido:Cancelamento:Outros  "
      ]
     },
     "execution_count": 12,
     "metadata": {},
     "output_type": "execute_result"
    }
   ],
   "source": [
    "cases.head()"
   ]
  },
  {
   "cell_type": "markdown",
   "id": "1e6fae27",
   "metadata": {},
   "source": [
    "> Renomeando as colunas para facilitar a manipulação"
   ]
  },
  {
   "cell_type": "code",
   "execution_count": 13,
   "id": "db5b0f1a",
   "metadata": {},
   "outputs": [],
   "source": [
    "cases.rename(columns={\n",
    "    'accountid': 'Id',\n",
    "    'date_ref': 'Data',\n",
    "    'channelid': 'Canal',\n",
    "    'waitingtime': 'Espera',\n",
    "    'missed': 'Atendido',\n",
    "    'pesquisa_de_satisfa_o__c': 'Pesquisa_Satisfacao',\n",
    "    'assunto': 'Assunto'\n",
    "}, inplace=True)"
   ]
  },
  {
   "cell_type": "code",
   "execution_count": 14,
   "id": "3b3191b1",
   "metadata": {},
   "outputs": [
    {
     "data": {
      "text/html": [
       "<div>\n",
       "<style scoped>\n",
       "    .dataframe tbody tr th:only-of-type {\n",
       "        vertical-align: middle;\n",
       "    }\n",
       "\n",
       "    .dataframe tbody tr th {\n",
       "        vertical-align: top;\n",
       "    }\n",
       "\n",
       "    .dataframe thead th {\n",
       "        text-align: right;\n",
       "    }\n",
       "</style>\n",
       "<table border=\"1\" class=\"dataframe\">\n",
       "  <thead>\n",
       "    <tr style=\"text-align: right;\">\n",
       "      <th></th>\n",
       "      <th>Id</th>\n",
       "      <th>Data</th>\n",
       "      <th>Canal</th>\n",
       "      <th>Espera</th>\n",
       "      <th>Atendido</th>\n",
       "      <th>Pesquisa_Satisfacao</th>\n",
       "      <th>Assunto</th>\n",
       "    </tr>\n",
       "  </thead>\n",
       "  <tbody>\n",
       "    <tr>\n",
       "      <th>4</th>\n",
       "      <td>0013j00002z0CeEAAU</td>\n",
       "      <td>2020-07-31</td>\n",
       "      <td>2.0</td>\n",
       "      <td>15.0</td>\n",
       "      <td>False</td>\n",
       "      <td>NaN</td>\n",
       "      <td>Aplicativo:Dúvidas funcionalidades App:Primeir...</td>\n",
       "    </tr>\n",
       "    <tr>\n",
       "      <th>5</th>\n",
       "      <td>0013j00002z0CeEAAU</td>\n",
       "      <td>2020-07-31</td>\n",
       "      <td>2.0</td>\n",
       "      <td>15.0</td>\n",
       "      <td>False</td>\n",
       "      <td>NaN</td>\n",
       "      <td>Produto:S920:Ativação</td>\n",
       "    </tr>\n",
       "    <tr>\n",
       "      <th>6</th>\n",
       "      <td>0013j00002z0CeEAAU</td>\n",
       "      <td>2020-09-23</td>\n",
       "      <td>2.0</td>\n",
       "      <td>1.0</td>\n",
       "      <td>False</td>\n",
       "      <td>NaN</td>\n",
       "      <td>Produto:Cartão pré-pago:Dúvidas</td>\n",
       "    </tr>\n",
       "    <tr>\n",
       "      <th>7</th>\n",
       "      <td>0013j00002zQgldAAC</td>\n",
       "      <td>2020-08-29</td>\n",
       "      <td>2.0</td>\n",
       "      <td>6.0</td>\n",
       "      <td>False</td>\n",
       "      <td>NaN</td>\n",
       "      <td>Logística:Envio de Cartão:Tracking</td>\n",
       "    </tr>\n",
       "    <tr>\n",
       "      <th>8</th>\n",
       "      <td>0013j00002zQgldAAC</td>\n",
       "      <td>2020-08-29</td>\n",
       "      <td>2.0</td>\n",
       "      <td>6.0</td>\n",
       "      <td>False</td>\n",
       "      <td>NaN</td>\n",
       "      <td>Pedido:Cancelamento:Outros</td>\n",
       "    </tr>\n",
       "  </tbody>\n",
       "</table>\n",
       "</div>"
      ],
      "text/plain": [
       "                   Id        Data  Canal  Espera Atendido Pesquisa_Satisfacao  \\\n",
       "4  0013j00002z0CeEAAU  2020-07-31    2.0    15.0    False                 NaN   \n",
       "5  0013j00002z0CeEAAU  2020-07-31    2.0    15.0    False                 NaN   \n",
       "6  0013j00002z0CeEAAU  2020-09-23    2.0     1.0    False                 NaN   \n",
       "7  0013j00002zQgldAAC  2020-08-29    2.0     6.0    False                 NaN   \n",
       "8  0013j00002zQgldAAC  2020-08-29    2.0     6.0    False                 NaN   \n",
       "\n",
       "                                             Assunto  \n",
       "4  Aplicativo:Dúvidas funcionalidades App:Primeir...  \n",
       "5                              Produto:S920:Ativação  \n",
       "6                    Produto:Cartão pré-pago:Dúvidas  \n",
       "7                 Logística:Envio de Cartão:Tracking  \n",
       "8                         Pedido:Cancelamento:Outros  "
      ]
     },
     "execution_count": 14,
     "metadata": {},
     "output_type": "execute_result"
    }
   ],
   "source": [
    "cases.head()"
   ]
  },
  {
   "cell_type": "markdown",
   "id": "6e6baf48",
   "metadata": {},
   "source": [
    "> Alterando os valores da coluna 'Atendido' para Sim e Não, pois com a alteração do nome, o sentido da informação também foi alterado"
   ]
  },
  {
   "cell_type": "code",
   "execution_count": 15,
   "id": "e26a0a0a",
   "metadata": {},
   "outputs": [
    {
     "data": {
      "text/plain": [
       "array([False, True], dtype=object)"
      ]
     },
     "execution_count": 15,
     "metadata": {},
     "output_type": "execute_result"
    }
   ],
   "source": [
    "cases['Atendido'].unique() #confirmando os valores da coluna Atendido"
   ]
  },
  {
   "cell_type": "code",
   "execution_count": 16,
   "id": "31c8e135",
   "metadata": {},
   "outputs": [],
   "source": [
    "cases['Atendido'] = cases['Atendido'].map({False: 'Sim', True: 'Não'}) #Alterando os valores da coluna"
   ]
  },
  {
   "cell_type": "code",
   "execution_count": 17,
   "id": "eabcc092",
   "metadata": {},
   "outputs": [
    {
     "data": {
      "text/html": [
       "<div>\n",
       "<style scoped>\n",
       "    .dataframe tbody tr th:only-of-type {\n",
       "        vertical-align: middle;\n",
       "    }\n",
       "\n",
       "    .dataframe tbody tr th {\n",
       "        vertical-align: top;\n",
       "    }\n",
       "\n",
       "    .dataframe thead th {\n",
       "        text-align: right;\n",
       "    }\n",
       "</style>\n",
       "<table border=\"1\" class=\"dataframe\">\n",
       "  <thead>\n",
       "    <tr style=\"text-align: right;\">\n",
       "      <th></th>\n",
       "      <th>Id</th>\n",
       "      <th>Data</th>\n",
       "      <th>Canal</th>\n",
       "      <th>Espera</th>\n",
       "      <th>Atendido</th>\n",
       "      <th>Pesquisa_Satisfacao</th>\n",
       "      <th>Assunto</th>\n",
       "    </tr>\n",
       "  </thead>\n",
       "  <tbody>\n",
       "    <tr>\n",
       "      <th>4</th>\n",
       "      <td>0013j00002z0CeEAAU</td>\n",
       "      <td>2020-07-31</td>\n",
       "      <td>2.0</td>\n",
       "      <td>15.0</td>\n",
       "      <td>Sim</td>\n",
       "      <td>NaN</td>\n",
       "      <td>Aplicativo:Dúvidas funcionalidades App:Primeir...</td>\n",
       "    </tr>\n",
       "    <tr>\n",
       "      <th>5</th>\n",
       "      <td>0013j00002z0CeEAAU</td>\n",
       "      <td>2020-07-31</td>\n",
       "      <td>2.0</td>\n",
       "      <td>15.0</td>\n",
       "      <td>Sim</td>\n",
       "      <td>NaN</td>\n",
       "      <td>Produto:S920:Ativação</td>\n",
       "    </tr>\n",
       "    <tr>\n",
       "      <th>6</th>\n",
       "      <td>0013j00002z0CeEAAU</td>\n",
       "      <td>2020-09-23</td>\n",
       "      <td>2.0</td>\n",
       "      <td>1.0</td>\n",
       "      <td>Sim</td>\n",
       "      <td>NaN</td>\n",
       "      <td>Produto:Cartão pré-pago:Dúvidas</td>\n",
       "    </tr>\n",
       "    <tr>\n",
       "      <th>7</th>\n",
       "      <td>0013j00002zQgldAAC</td>\n",
       "      <td>2020-08-29</td>\n",
       "      <td>2.0</td>\n",
       "      <td>6.0</td>\n",
       "      <td>Sim</td>\n",
       "      <td>NaN</td>\n",
       "      <td>Logística:Envio de Cartão:Tracking</td>\n",
       "    </tr>\n",
       "    <tr>\n",
       "      <th>8</th>\n",
       "      <td>0013j00002zQgldAAC</td>\n",
       "      <td>2020-08-29</td>\n",
       "      <td>2.0</td>\n",
       "      <td>6.0</td>\n",
       "      <td>Sim</td>\n",
       "      <td>NaN</td>\n",
       "      <td>Pedido:Cancelamento:Outros</td>\n",
       "    </tr>\n",
       "  </tbody>\n",
       "</table>\n",
       "</div>"
      ],
      "text/plain": [
       "                   Id        Data  Canal  Espera Atendido Pesquisa_Satisfacao  \\\n",
       "4  0013j00002z0CeEAAU  2020-07-31    2.0    15.0      Sim                 NaN   \n",
       "5  0013j00002z0CeEAAU  2020-07-31    2.0    15.0      Sim                 NaN   \n",
       "6  0013j00002z0CeEAAU  2020-09-23    2.0     1.0      Sim                 NaN   \n",
       "7  0013j00002zQgldAAC  2020-08-29    2.0     6.0      Sim                 NaN   \n",
       "8  0013j00002zQgldAAC  2020-08-29    2.0     6.0      Sim                 NaN   \n",
       "\n",
       "                                             Assunto  \n",
       "4  Aplicativo:Dúvidas funcionalidades App:Primeir...  \n",
       "5                              Produto:S920:Ativação  \n",
       "6                    Produto:Cartão pré-pago:Dúvidas  \n",
       "7                 Logística:Envio de Cartão:Tracking  \n",
       "8                         Pedido:Cancelamento:Outros  "
      ]
     },
     "execution_count": 17,
     "metadata": {},
     "output_type": "execute_result"
    }
   ],
   "source": [
    "cases.head()"
   ]
  },
  {
   "cell_type": "markdown",
   "id": "0f71afa8",
   "metadata": {},
   "source": [
    "> Criando uma lista dos assuntos dos chamados para análise"
   ]
  },
  {
   "cell_type": "code",
   "execution_count": 18,
   "id": "d27b91df",
   "metadata": {},
   "outputs": [],
   "source": [
    "assuntos = list(cases['Assunto']) #transformando a series em lista"
   ]
  },
  {
   "cell_type": "code",
   "execution_count": 19,
   "id": "504fa995",
   "metadata": {},
   "outputs": [],
   "source": [
    "Assunto_Principal = []\n",
    "SubAssunto_01 = []\n",
    "SubAssunto_02 = []\n",
    "\n",
    "for i in range(len(assuntos)):\n",
    "    assuntos[i].strip()\n",
    "    posicao1 = assuntos[i].find(':') #encontrando a posição do 1º ':'\n",
    "    posicao2 = assuntos[i][(posicao1+1):].find(':') #encontrando a posição do 2º ':' a partir do caractere seguinte ao 1º\n",
    "\n",
    "\n",
    "    Assunto_Principal.append(assuntos[i][:posicao1])\n",
    "    SubAssunto_01.append(assuntos[i][(posicao1+1):(posicao1 + posicao2 + 1)])\n",
    "    SubAssunto_02.append(assuntos[i][(posicao1 + posicao2 + 2):])\n",
    "    \n",
    "#percorreu-se a lista de assuntos e separou os assuntos pelo separador ':', dividindo em três níveis"
   ]
  },
  {
   "cell_type": "markdown",
   "id": "c6f2194b",
   "metadata": {},
   "source": [
    "> Removendo a coluna de Assunto e incluindo na tabela as listas de assuntos explodidas e transformadas em series"
   ]
  },
  {
   "cell_type": "code",
   "execution_count": 20,
   "id": "a6b2a2fb",
   "metadata": {},
   "outputs": [],
   "source": [
    "cases.drop('Assunto', \n",
    "           axis=1, \n",
    "           inplace=True)"
   ]
  },
  {
   "cell_type": "code",
   "execution_count": 21,
   "id": "068e0e24",
   "metadata": {},
   "outputs": [],
   "source": [
    "cases['Assunto_Principal'] = pd.Series(Assunto_Principal)\n",
    "cases['SubAssunto_01'] = pd.Series(SubAssunto_01)\n",
    "cases['SubAssunto_02'] = pd.Series(SubAssunto_02)"
   ]
  },
  {
   "cell_type": "code",
   "execution_count": 22,
   "id": "95935cc4",
   "metadata": {
    "scrolled": false
   },
   "outputs": [
    {
     "data": {
      "text/html": [
       "<div>\n",
       "<style scoped>\n",
       "    .dataframe tbody tr th:only-of-type {\n",
       "        vertical-align: middle;\n",
       "    }\n",
       "\n",
       "    .dataframe tbody tr th {\n",
       "        vertical-align: top;\n",
       "    }\n",
       "\n",
       "    .dataframe thead th {\n",
       "        text-align: right;\n",
       "    }\n",
       "</style>\n",
       "<table border=\"1\" class=\"dataframe\">\n",
       "  <thead>\n",
       "    <tr style=\"text-align: right;\">\n",
       "      <th></th>\n",
       "      <th>Id</th>\n",
       "      <th>Data</th>\n",
       "      <th>Canal</th>\n",
       "      <th>Espera</th>\n",
       "      <th>Atendido</th>\n",
       "      <th>Pesquisa_Satisfacao</th>\n",
       "      <th>Assunto_Principal</th>\n",
       "      <th>SubAssunto_01</th>\n",
       "      <th>SubAssunto_02</th>\n",
       "    </tr>\n",
       "  </thead>\n",
       "  <tbody>\n",
       "    <tr>\n",
       "      <th>4</th>\n",
       "      <td>0013j00002z0CeEAAU</td>\n",
       "      <td>2020-07-31</td>\n",
       "      <td>2.0</td>\n",
       "      <td>15.0</td>\n",
       "      <td>Sim</td>\n",
       "      <td>NaN</td>\n",
       "      <td>Pedido</td>\n",
       "      <td>Cancelamento</td>\n",
       "      <td>Outros</td>\n",
       "    </tr>\n",
       "    <tr>\n",
       "      <th>5</th>\n",
       "      <td>0013j00002z0CeEAAU</td>\n",
       "      <td>2020-07-31</td>\n",
       "      <td>2.0</td>\n",
       "      <td>15.0</td>\n",
       "      <td>Sim</td>\n",
       "      <td>NaN</td>\n",
       "      <td>Produto</td>\n",
       "      <td>Cartão pré-pago</td>\n",
       "      <td>Dúvidas</td>\n",
       "    </tr>\n",
       "    <tr>\n",
       "      <th>6</th>\n",
       "      <td>0013j00002z0CeEAAU</td>\n",
       "      <td>2020-09-23</td>\n",
       "      <td>2.0</td>\n",
       "      <td>1.0</td>\n",
       "      <td>Sim</td>\n",
       "      <td>NaN</td>\n",
       "      <td>Aplicativo</td>\n",
       "      <td>Dúvidas funcionalidades App</td>\n",
       "      <td>Redefinição de senha</td>\n",
       "    </tr>\n",
       "    <tr>\n",
       "      <th>7</th>\n",
       "      <td>0013j00002zQgldAAC</td>\n",
       "      <td>2020-08-29</td>\n",
       "      <td>2.0</td>\n",
       "      <td>6.0</td>\n",
       "      <td>Sim</td>\n",
       "      <td>NaN</td>\n",
       "      <td>Aplicativo</td>\n",
       "      <td>Dúvidas funcionalidades App</td>\n",
       "      <td>Prazos e taxas</td>\n",
       "    </tr>\n",
       "    <tr>\n",
       "      <th>8</th>\n",
       "      <td>0013j00002zQgldAAC</td>\n",
       "      <td>2020-08-29</td>\n",
       "      <td>2.0</td>\n",
       "      <td>6.0</td>\n",
       "      <td>Sim</td>\n",
       "      <td>NaN</td>\n",
       "      <td>Logística</td>\n",
       "      <td>OS</td>\n",
       "      <td>Confirmação/alteração de dados</td>\n",
       "    </tr>\n",
       "  </tbody>\n",
       "</table>\n",
       "</div>"
      ],
      "text/plain": [
       "                   Id        Data  Canal  Espera Atendido Pesquisa_Satisfacao  \\\n",
       "4  0013j00002z0CeEAAU  2020-07-31    2.0    15.0      Sim                 NaN   \n",
       "5  0013j00002z0CeEAAU  2020-07-31    2.0    15.0      Sim                 NaN   \n",
       "6  0013j00002z0CeEAAU  2020-09-23    2.0     1.0      Sim                 NaN   \n",
       "7  0013j00002zQgldAAC  2020-08-29    2.0     6.0      Sim                 NaN   \n",
       "8  0013j00002zQgldAAC  2020-08-29    2.0     6.0      Sim                 NaN   \n",
       "\n",
       "  Assunto_Principal                SubAssunto_01  \\\n",
       "4            Pedido                 Cancelamento   \n",
       "5           Produto              Cartão pré-pago   \n",
       "6        Aplicativo  Dúvidas funcionalidades App   \n",
       "7        Aplicativo  Dúvidas funcionalidades App   \n",
       "8         Logística                           OS   \n",
       "\n",
       "                    SubAssunto_02  \n",
       "4                          Outros  \n",
       "5                         Dúvidas  \n",
       "6            Redefinição de senha  \n",
       "7                  Prazos e taxas  \n",
       "8  Confirmação/alteração de dados  "
      ]
     },
     "execution_count": 22,
     "metadata": {},
     "output_type": "execute_result"
    }
   ],
   "source": [
    "cases.head()"
   ]
  },
  {
   "cell_type": "markdown",
   "id": "90da586b",
   "metadata": {},
   "source": [
    "> Verificando os valores da coluna de Pesquisa de Satisfação"
   ]
  },
  {
   "cell_type": "code",
   "execution_count": 23,
   "id": "2fffb2f9",
   "metadata": {},
   "outputs": [
    {
     "data": {
      "text/plain": [
       "array([nan, 'Enviado', 'Incrivel', 'Normal', 'Bom', 'NaoResolveu',\n",
       "       'Triste', 'Cansativo', 'MalAtendido', 'Feliz', 'Pessimo'],\n",
       "      dtype=object)"
      ]
     },
     "execution_count": 23,
     "metadata": {},
     "output_type": "execute_result"
    }
   ],
   "source": [
    "cases['Pesquisa_Satisfacao'].unique()"
   ]
  },
  {
   "cell_type": "markdown",
   "id": "a5228f6f",
   "metadata": {},
   "source": [
    "#### 3.2 Base de dados de Credenciamentos"
   ]
  },
  {
   "cell_type": "markdown",
   "id": "9dfabb98",
   "metadata": {},
   "source": [
    "> Mantendo apenas na tabela apenas as colunas para análise"
   ]
  },
  {
   "cell_type": "code",
   "execution_count": 24,
   "id": "a1db8590",
   "metadata": {},
   "outputs": [
    {
     "data": {
      "text/html": [
       "<div>\n",
       "<style scoped>\n",
       "    .dataframe tbody tr th:only-of-type {\n",
       "        vertical-align: middle;\n",
       "    }\n",
       "\n",
       "    .dataframe tbody tr th {\n",
       "        vertical-align: top;\n",
       "    }\n",
       "\n",
       "    .dataframe thead th {\n",
       "        text-align: right;\n",
       "    }\n",
       "</style>\n",
       "<table border=\"1\" class=\"dataframe\">\n",
       "  <thead>\n",
       "    <tr style=\"text-align: right;\">\n",
       "      <th></th>\n",
       "      <th>Data_Credenciamento</th>\n",
       "      <th>Estado_Entrega</th>\n",
       "      <th>Produto_Adquirido</th>\n",
       "      <th>Id</th>\n",
       "    </tr>\n",
       "  </thead>\n",
       "  <tbody>\n",
       "    <tr>\n",
       "      <th>0</th>\n",
       "      <td>2020-04-18</td>\n",
       "      <td>BA</td>\n",
       "      <td>T1</td>\n",
       "      <td>NaN</td>\n",
       "    </tr>\n",
       "    <tr>\n",
       "      <th>1</th>\n",
       "      <td>2020-10-16</td>\n",
       "      <td>MA</td>\n",
       "      <td>T1</td>\n",
       "      <td>NaN</td>\n",
       "    </tr>\n",
       "    <tr>\n",
       "      <th>2</th>\n",
       "      <td>2020-09-01</td>\n",
       "      <td>TO</td>\n",
       "      <td>T1</td>\n",
       "      <td>NaN</td>\n",
       "    </tr>\n",
       "    <tr>\n",
       "      <th>3</th>\n",
       "      <td>2020-08-29</td>\n",
       "      <td>RJ</td>\n",
       "      <td>T3</td>\n",
       "      <td>NaN</td>\n",
       "    </tr>\n",
       "    <tr>\n",
       "      <th>4</th>\n",
       "      <td>2020-07-28</td>\n",
       "      <td>RJ</td>\n",
       "      <td>T3</td>\n",
       "      <td>0013j00002z0CeEAAU</td>\n",
       "    </tr>\n",
       "  </tbody>\n",
       "</table>\n",
       "</div>"
      ],
      "text/plain": [
       "  Data_Credenciamento Estado_Entrega Produto_Adquirido                  Id\n",
       "0          2020-04-18             BA                T1                 NaN\n",
       "1          2020-10-16             MA                T1                 NaN\n",
       "2          2020-09-01             TO                T1                 NaN\n",
       "3          2020-08-29             RJ                T3                 NaN\n",
       "4          2020-07-28             RJ                T3  0013j00002z0CeEAAU"
      ]
     },
     "execution_count": 24,
     "metadata": {},
     "output_type": "execute_result"
    }
   ],
   "source": [
    "creds.drop(['Unnamed: 0', 'shipping_address_city'], \n",
    "           axis=1, \n",
    "           inplace=True) #excluindo colunas não desejadas\n",
    "\n",
    "creds.rename(columns={\n",
    "    'accountid': 'Id',\n",
    "    'cred_date': 'Data_Credenciamento',\n",
    "    'shipping_address_state': 'Estado_Entrega',\n",
    "    'max_machine': 'Produto_Adquirido'\n",
    "}, inplace=True) #renomeando as colunas\n",
    "\n",
    "creds.head() #exibindo a nova estrutura"
   ]
  },
  {
   "cell_type": "code",
   "execution_count": 25,
   "id": "a1bc1563",
   "metadata": {},
   "outputs": [
    {
     "name": "stdout",
     "output_type": "stream",
     "text": [
      "<class 'pandas.core.frame.DataFrame'>\n",
      "RangeIndex: 126989 entries, 0 to 126988\n",
      "Data columns (total 4 columns):\n",
      " #   Column               Non-Null Count   Dtype \n",
      "---  ------               --------------   ----- \n",
      " 0   Data_Credenciamento  126989 non-null  object\n",
      " 1   Estado_Entrega       126989 non-null  object\n",
      " 2   Produto_Adquirido    126989 non-null  object\n",
      " 3   Id                   77489 non-null   object\n",
      "dtypes: object(4)\n",
      "memory usage: 3.9+ MB\n"
     ]
    }
   ],
   "source": [
    "creds.info()"
   ]
  },
  {
   "cell_type": "markdown",
   "id": "608e3164",
   "metadata": {},
   "source": [
    "> A coluna de Id possui muitos valores NaN, vamos excluir todas as linhas dessa forma, pois não será útil à nossa análise"
   ]
  },
  {
   "cell_type": "code",
   "execution_count": 26,
   "id": "bc7d41e3",
   "metadata": {},
   "outputs": [],
   "source": [
    "creds.dropna(axis=0,\n",
    "             how='any',\n",
    "             inplace=True) #excluindo linhas"
   ]
  },
  {
   "cell_type": "code",
   "execution_count": 27,
   "id": "754b9ef7",
   "metadata": {},
   "outputs": [
    {
     "data": {
      "text/html": [
       "<div>\n",
       "<style scoped>\n",
       "    .dataframe tbody tr th:only-of-type {\n",
       "        vertical-align: middle;\n",
       "    }\n",
       "\n",
       "    .dataframe tbody tr th {\n",
       "        vertical-align: top;\n",
       "    }\n",
       "\n",
       "    .dataframe thead th {\n",
       "        text-align: right;\n",
       "    }\n",
       "</style>\n",
       "<table border=\"1\" class=\"dataframe\">\n",
       "  <thead>\n",
       "    <tr style=\"text-align: right;\">\n",
       "      <th></th>\n",
       "      <th>Data_Credenciamento</th>\n",
       "      <th>Estado_Entrega</th>\n",
       "      <th>Produto_Adquirido</th>\n",
       "      <th>Id</th>\n",
       "    </tr>\n",
       "  </thead>\n",
       "  <tbody>\n",
       "    <tr>\n",
       "      <th>4</th>\n",
       "      <td>2020-07-28</td>\n",
       "      <td>RJ</td>\n",
       "      <td>T3</td>\n",
       "      <td>0013j00002z0CeEAAU</td>\n",
       "    </tr>\n",
       "    <tr>\n",
       "      <th>5</th>\n",
       "      <td>2020-07-28</td>\n",
       "      <td>RJ</td>\n",
       "      <td>T3</td>\n",
       "      <td>0013j00002z0CeEAAU</td>\n",
       "    </tr>\n",
       "    <tr>\n",
       "      <th>6</th>\n",
       "      <td>2020-07-28</td>\n",
       "      <td>RJ</td>\n",
       "      <td>T3</td>\n",
       "      <td>0013j00002z0CeEAAU</td>\n",
       "    </tr>\n",
       "    <tr>\n",
       "      <th>7</th>\n",
       "      <td>2020-08-28</td>\n",
       "      <td>RJ</td>\n",
       "      <td>T1</td>\n",
       "      <td>0013j00002zQgldAAC</td>\n",
       "    </tr>\n",
       "    <tr>\n",
       "      <th>8</th>\n",
       "      <td>2020-08-28</td>\n",
       "      <td>RJ</td>\n",
       "      <td>T1</td>\n",
       "      <td>0013j00002zQgldAAC</td>\n",
       "    </tr>\n",
       "  </tbody>\n",
       "</table>\n",
       "</div>"
      ],
      "text/plain": [
       "  Data_Credenciamento Estado_Entrega Produto_Adquirido                  Id\n",
       "4          2020-07-28             RJ                T3  0013j00002z0CeEAAU\n",
       "5          2020-07-28             RJ                T3  0013j00002z0CeEAAU\n",
       "6          2020-07-28             RJ                T3  0013j00002z0CeEAAU\n",
       "7          2020-08-28             RJ                T1  0013j00002zQgldAAC\n",
       "8          2020-08-28             RJ                T1  0013j00002zQgldAAC"
      ]
     },
     "execution_count": 27,
     "metadata": {},
     "output_type": "execute_result"
    }
   ],
   "source": [
    "creds.head()"
   ]
  },
  {
   "cell_type": "code",
   "execution_count": 28,
   "id": "d339e97d",
   "metadata": {},
   "outputs": [
    {
     "name": "stdout",
     "output_type": "stream",
     "text": [
      "<class 'pandas.core.frame.DataFrame'>\n",
      "Int64Index: 77489 entries, 4 to 126988\n",
      "Data columns (total 4 columns):\n",
      " #   Column               Non-Null Count  Dtype \n",
      "---  ------               --------------  ----- \n",
      " 0   Data_Credenciamento  77489 non-null  object\n",
      " 1   Estado_Entrega       77489 non-null  object\n",
      " 2   Produto_Adquirido    77489 non-null  object\n",
      " 3   Id                   77489 non-null  object\n",
      "dtypes: object(4)\n",
      "memory usage: 3.0+ MB\n"
     ]
    }
   ],
   "source": [
    "creds.info()"
   ]
  },
  {
   "cell_type": "markdown",
   "id": "91bbd8ac",
   "metadata": {},
   "source": [
    "#### 3.3 Incluindo as informações da tabela de credenciamentos na tabela de chamados. ."
   ]
  },
  {
   "cell_type": "code",
   "execution_count": 29,
   "id": "3084ae62",
   "metadata": {},
   "outputs": [],
   "source": [
    "cases.loc[creds['Id'] == cases['Id'], 'Data_Credenciamento'] = creds['Data_Credenciamento']\n",
    "cases.loc[creds['Id'] == cases['Id'], 'Estado_Entrega'] = creds['Estado_Entrega']\n",
    "cases.loc[creds['Id'] == cases['Id'], 'Produto_Adquirido'] = creds['Produto_Adquirido']\n",
    "#acrescentando as informações da tabela creds na tabela cases com base no Id do cliente"
   ]
  },
  {
   "cell_type": "code",
   "execution_count": 30,
   "id": "3f315702",
   "metadata": {},
   "outputs": [
    {
     "data": {
      "text/html": [
       "<div>\n",
       "<style scoped>\n",
       "    .dataframe tbody tr th:only-of-type {\n",
       "        vertical-align: middle;\n",
       "    }\n",
       "\n",
       "    .dataframe tbody tr th {\n",
       "        vertical-align: top;\n",
       "    }\n",
       "\n",
       "    .dataframe thead th {\n",
       "        text-align: right;\n",
       "    }\n",
       "</style>\n",
       "<table border=\"1\" class=\"dataframe\">\n",
       "  <thead>\n",
       "    <tr style=\"text-align: right;\">\n",
       "      <th></th>\n",
       "      <th>Id</th>\n",
       "      <th>Data</th>\n",
       "      <th>Canal</th>\n",
       "      <th>Espera</th>\n",
       "      <th>Atendido</th>\n",
       "      <th>Pesquisa_Satisfacao</th>\n",
       "      <th>Assunto_Principal</th>\n",
       "      <th>SubAssunto_01</th>\n",
       "      <th>SubAssunto_02</th>\n",
       "      <th>Data_Credenciamento</th>\n",
       "      <th>Estado_Entrega</th>\n",
       "      <th>Produto_Adquirido</th>\n",
       "    </tr>\n",
       "  </thead>\n",
       "  <tbody>\n",
       "    <tr>\n",
       "      <th>4</th>\n",
       "      <td>0013j00002z0CeEAAU</td>\n",
       "      <td>2020-07-31</td>\n",
       "      <td>2.0</td>\n",
       "      <td>15.0</td>\n",
       "      <td>Sim</td>\n",
       "      <td>NaN</td>\n",
       "      <td>Pedido</td>\n",
       "      <td>Cancelamento</td>\n",
       "      <td>Outros</td>\n",
       "      <td>2020-07-28</td>\n",
       "      <td>RJ</td>\n",
       "      <td>T3</td>\n",
       "    </tr>\n",
       "    <tr>\n",
       "      <th>5</th>\n",
       "      <td>0013j00002z0CeEAAU</td>\n",
       "      <td>2020-07-31</td>\n",
       "      <td>2.0</td>\n",
       "      <td>15.0</td>\n",
       "      <td>Sim</td>\n",
       "      <td>NaN</td>\n",
       "      <td>Produto</td>\n",
       "      <td>Cartão pré-pago</td>\n",
       "      <td>Dúvidas</td>\n",
       "      <td>2020-07-28</td>\n",
       "      <td>RJ</td>\n",
       "      <td>T3</td>\n",
       "    </tr>\n",
       "    <tr>\n",
       "      <th>6</th>\n",
       "      <td>0013j00002z0CeEAAU</td>\n",
       "      <td>2020-09-23</td>\n",
       "      <td>2.0</td>\n",
       "      <td>1.0</td>\n",
       "      <td>Sim</td>\n",
       "      <td>NaN</td>\n",
       "      <td>Aplicativo</td>\n",
       "      <td>Dúvidas funcionalidades App</td>\n",
       "      <td>Redefinição de senha</td>\n",
       "      <td>2020-07-28</td>\n",
       "      <td>RJ</td>\n",
       "      <td>T3</td>\n",
       "    </tr>\n",
       "    <tr>\n",
       "      <th>7</th>\n",
       "      <td>0013j00002zQgldAAC</td>\n",
       "      <td>2020-08-29</td>\n",
       "      <td>2.0</td>\n",
       "      <td>6.0</td>\n",
       "      <td>Sim</td>\n",
       "      <td>NaN</td>\n",
       "      <td>Aplicativo</td>\n",
       "      <td>Dúvidas funcionalidades App</td>\n",
       "      <td>Prazos e taxas</td>\n",
       "      <td>2020-08-28</td>\n",
       "      <td>RJ</td>\n",
       "      <td>T1</td>\n",
       "    </tr>\n",
       "    <tr>\n",
       "      <th>8</th>\n",
       "      <td>0013j00002zQgldAAC</td>\n",
       "      <td>2020-08-29</td>\n",
       "      <td>2.0</td>\n",
       "      <td>6.0</td>\n",
       "      <td>Sim</td>\n",
       "      <td>NaN</td>\n",
       "      <td>Logística</td>\n",
       "      <td>OS</td>\n",
       "      <td>Confirmação/alteração de dados</td>\n",
       "      <td>2020-08-28</td>\n",
       "      <td>RJ</td>\n",
       "      <td>T1</td>\n",
       "    </tr>\n",
       "  </tbody>\n",
       "</table>\n",
       "</div>"
      ],
      "text/plain": [
       "                   Id        Data  Canal  Espera Atendido Pesquisa_Satisfacao  \\\n",
       "4  0013j00002z0CeEAAU  2020-07-31    2.0    15.0      Sim                 NaN   \n",
       "5  0013j00002z0CeEAAU  2020-07-31    2.0    15.0      Sim                 NaN   \n",
       "6  0013j00002z0CeEAAU  2020-09-23    2.0     1.0      Sim                 NaN   \n",
       "7  0013j00002zQgldAAC  2020-08-29    2.0     6.0      Sim                 NaN   \n",
       "8  0013j00002zQgldAAC  2020-08-29    2.0     6.0      Sim                 NaN   \n",
       "\n",
       "  Assunto_Principal                SubAssunto_01  \\\n",
       "4            Pedido                 Cancelamento   \n",
       "5           Produto              Cartão pré-pago   \n",
       "6        Aplicativo  Dúvidas funcionalidades App   \n",
       "7        Aplicativo  Dúvidas funcionalidades App   \n",
       "8         Logística                           OS   \n",
       "\n",
       "                    SubAssunto_02 Data_Credenciamento Estado_Entrega  \\\n",
       "4                          Outros          2020-07-28             RJ   \n",
       "5                         Dúvidas          2020-07-28             RJ   \n",
       "6            Redefinição de senha          2020-07-28             RJ   \n",
       "7                  Prazos e taxas          2020-08-28             RJ   \n",
       "8  Confirmação/alteração de dados          2020-08-28             RJ   \n",
       "\n",
       "  Produto_Adquirido  \n",
       "4                T3  \n",
       "5                T3  \n",
       "6                T3  \n",
       "7                T1  \n",
       "8                T1  "
      ]
     },
     "execution_count": 30,
     "metadata": {},
     "output_type": "execute_result"
    }
   ],
   "source": [
    "cases.head()"
   ]
  },
  {
   "cell_type": "code",
   "execution_count": 31,
   "id": "d183835d",
   "metadata": {},
   "outputs": [
    {
     "name": "stdout",
     "output_type": "stream",
     "text": [
      "<class 'pandas.core.frame.DataFrame'>\n",
      "Int64Index: 77489 entries, 4 to 126988\n",
      "Data columns (total 12 columns):\n",
      " #   Column               Non-Null Count  Dtype  \n",
      "---  ------               --------------  -----  \n",
      " 0   Id                   77489 non-null  object \n",
      " 1   Data                 77489 non-null  object \n",
      " 2   Canal                77489 non-null  float64\n",
      " 3   Espera               77489 non-null  float64\n",
      " 4   Atendido             77489 non-null  object \n",
      " 5   Pesquisa_Satisfacao  11585 non-null  object \n",
      " 6   Assunto_Principal    47318 non-null  object \n",
      " 7   SubAssunto_01        47318 non-null  object \n",
      " 8   SubAssunto_02        47318 non-null  object \n",
      " 9   Data_Credenciamento  77489 non-null  object \n",
      " 10  Estado_Entrega       77489 non-null  object \n",
      " 11  Produto_Adquirido    77489 non-null  object \n",
      "dtypes: float64(2), object(10)\n",
      "memory usage: 7.7+ MB\n"
     ]
    }
   ],
   "source": [
    "cases.info()"
   ]
  },
  {
   "cell_type": "markdown",
   "id": "2f51cfdd",
   "metadata": {},
   "source": [
    "> Criando uma coluna para determinar o tempo de credenciamento dos clientes, em dias"
   ]
  },
  {
   "cell_type": "code",
   "execution_count": 32,
   "id": "91e42607",
   "metadata": {},
   "outputs": [],
   "source": [
    "cases['Dias_Credenciado'] = [(datetime.strptime(list(cases['Data'])[i], '%Y-%m-%d') - \n",
    "                              datetime.strptime(list(cases['Data_Credenciamento'])[i], '%Y-%m-%d'))\n",
    "                             for i in range(len(cases))]\n",
    "#criando uma coluna calculada que faz a diferença em dias entre a data do chamado e a data do credenciamento do cliente"
   ]
  },
  {
   "cell_type": "code",
   "execution_count": 33,
   "id": "e1e5c787",
   "metadata": {},
   "outputs": [
    {
     "data": {
      "text/html": [
       "<div>\n",
       "<style scoped>\n",
       "    .dataframe tbody tr th:only-of-type {\n",
       "        vertical-align: middle;\n",
       "    }\n",
       "\n",
       "    .dataframe tbody tr th {\n",
       "        vertical-align: top;\n",
       "    }\n",
       "\n",
       "    .dataframe thead th {\n",
       "        text-align: right;\n",
       "    }\n",
       "</style>\n",
       "<table border=\"1\" class=\"dataframe\">\n",
       "  <thead>\n",
       "    <tr style=\"text-align: right;\">\n",
       "      <th></th>\n",
       "      <th>Id</th>\n",
       "      <th>Data</th>\n",
       "      <th>Canal</th>\n",
       "      <th>Espera</th>\n",
       "      <th>Atendido</th>\n",
       "      <th>Pesquisa_Satisfacao</th>\n",
       "      <th>Assunto_Principal</th>\n",
       "      <th>SubAssunto_01</th>\n",
       "      <th>SubAssunto_02</th>\n",
       "      <th>Data_Credenciamento</th>\n",
       "      <th>Estado_Entrega</th>\n",
       "      <th>Produto_Adquirido</th>\n",
       "      <th>Dias_Credenciado</th>\n",
       "    </tr>\n",
       "  </thead>\n",
       "  <tbody>\n",
       "    <tr>\n",
       "      <th>4</th>\n",
       "      <td>0013j00002z0CeEAAU</td>\n",
       "      <td>2020-07-31</td>\n",
       "      <td>2.0</td>\n",
       "      <td>15.0</td>\n",
       "      <td>Sim</td>\n",
       "      <td>NaN</td>\n",
       "      <td>Pedido</td>\n",
       "      <td>Cancelamento</td>\n",
       "      <td>Outros</td>\n",
       "      <td>2020-07-28</td>\n",
       "      <td>RJ</td>\n",
       "      <td>T3</td>\n",
       "      <td>3 days</td>\n",
       "    </tr>\n",
       "    <tr>\n",
       "      <th>5</th>\n",
       "      <td>0013j00002z0CeEAAU</td>\n",
       "      <td>2020-07-31</td>\n",
       "      <td>2.0</td>\n",
       "      <td>15.0</td>\n",
       "      <td>Sim</td>\n",
       "      <td>NaN</td>\n",
       "      <td>Produto</td>\n",
       "      <td>Cartão pré-pago</td>\n",
       "      <td>Dúvidas</td>\n",
       "      <td>2020-07-28</td>\n",
       "      <td>RJ</td>\n",
       "      <td>T3</td>\n",
       "      <td>3 days</td>\n",
       "    </tr>\n",
       "    <tr>\n",
       "      <th>6</th>\n",
       "      <td>0013j00002z0CeEAAU</td>\n",
       "      <td>2020-09-23</td>\n",
       "      <td>2.0</td>\n",
       "      <td>1.0</td>\n",
       "      <td>Sim</td>\n",
       "      <td>NaN</td>\n",
       "      <td>Aplicativo</td>\n",
       "      <td>Dúvidas funcionalidades App</td>\n",
       "      <td>Redefinição de senha</td>\n",
       "      <td>2020-07-28</td>\n",
       "      <td>RJ</td>\n",
       "      <td>T3</td>\n",
       "      <td>57 days</td>\n",
       "    </tr>\n",
       "    <tr>\n",
       "      <th>7</th>\n",
       "      <td>0013j00002zQgldAAC</td>\n",
       "      <td>2020-08-29</td>\n",
       "      <td>2.0</td>\n",
       "      <td>6.0</td>\n",
       "      <td>Sim</td>\n",
       "      <td>NaN</td>\n",
       "      <td>Aplicativo</td>\n",
       "      <td>Dúvidas funcionalidades App</td>\n",
       "      <td>Prazos e taxas</td>\n",
       "      <td>2020-08-28</td>\n",
       "      <td>RJ</td>\n",
       "      <td>T1</td>\n",
       "      <td>1 days</td>\n",
       "    </tr>\n",
       "    <tr>\n",
       "      <th>8</th>\n",
       "      <td>0013j00002zQgldAAC</td>\n",
       "      <td>2020-08-29</td>\n",
       "      <td>2.0</td>\n",
       "      <td>6.0</td>\n",
       "      <td>Sim</td>\n",
       "      <td>NaN</td>\n",
       "      <td>Logística</td>\n",
       "      <td>OS</td>\n",
       "      <td>Confirmação/alteração de dados</td>\n",
       "      <td>2020-08-28</td>\n",
       "      <td>RJ</td>\n",
       "      <td>T1</td>\n",
       "      <td>1 days</td>\n",
       "    </tr>\n",
       "  </tbody>\n",
       "</table>\n",
       "</div>"
      ],
      "text/plain": [
       "                   Id        Data  Canal  Espera Atendido Pesquisa_Satisfacao  \\\n",
       "4  0013j00002z0CeEAAU  2020-07-31    2.0    15.0      Sim                 NaN   \n",
       "5  0013j00002z0CeEAAU  2020-07-31    2.0    15.0      Sim                 NaN   \n",
       "6  0013j00002z0CeEAAU  2020-09-23    2.0     1.0      Sim                 NaN   \n",
       "7  0013j00002zQgldAAC  2020-08-29    2.0     6.0      Sim                 NaN   \n",
       "8  0013j00002zQgldAAC  2020-08-29    2.0     6.0      Sim                 NaN   \n",
       "\n",
       "  Assunto_Principal                SubAssunto_01  \\\n",
       "4            Pedido                 Cancelamento   \n",
       "5           Produto              Cartão pré-pago   \n",
       "6        Aplicativo  Dúvidas funcionalidades App   \n",
       "7        Aplicativo  Dúvidas funcionalidades App   \n",
       "8         Logística                           OS   \n",
       "\n",
       "                    SubAssunto_02 Data_Credenciamento Estado_Entrega  \\\n",
       "4                          Outros          2020-07-28             RJ   \n",
       "5                         Dúvidas          2020-07-28             RJ   \n",
       "6            Redefinição de senha          2020-07-28             RJ   \n",
       "7                  Prazos e taxas          2020-08-28             RJ   \n",
       "8  Confirmação/alteração de dados          2020-08-28             RJ   \n",
       "\n",
       "  Produto_Adquirido Dias_Credenciado  \n",
       "4                T3           3 days  \n",
       "5                T3           3 days  \n",
       "6                T3          57 days  \n",
       "7                T1           1 days  \n",
       "8                T1           1 days  "
      ]
     },
     "execution_count": 33,
     "metadata": {},
     "output_type": "execute_result"
    }
   ],
   "source": [
    "cases.head()"
   ]
  },
  {
   "cell_type": "markdown",
   "id": "63256640",
   "metadata": {},
   "source": [
    "### (4) Analisando as informações"
   ]
  },
  {
   "cell_type": "markdown",
   "id": "689f0aa0",
   "metadata": {},
   "source": [
    "#### 4.1 Análise do total de chamados abertos por período"
   ]
  },
  {
   "cell_type": "code",
   "execution_count": 34,
   "id": "5e7c04b4",
   "metadata": {},
   "outputs": [],
   "source": [
    "analise_chamados = cases.groupby('Data').count()['Id'] #agrupando a tabela pela data\n",
    "analise_chamados = analise_chamados.reset_index() #removendo a data do índice da série de dados"
   ]
  },
  {
   "cell_type": "code",
   "execution_count": 35,
   "id": "650f5c49",
   "metadata": {},
   "outputs": [
    {
     "data": {
      "text/plain": [
       "<AxesSubplot: title={'center': 'Análise de Chamados Abertos por Dia'}, xlabel='Dias', ylabel='Chamados Abertos'>"
      ]
     },
     "execution_count": 35,
     "metadata": {},
     "output_type": "execute_result"
    },
    {
     "data": {
      "image/png": "[encoded data removed]",
      "text/plain": [
       "<Figure size 1500x800 with 1 Axes>"
      ]
     },
     "metadata": {},
     "output_type": "display_data"
    }
   ],
   "source": [
    "#criando um gráfico de linhas que permitirá analisar visualmente as diferenças entre o período pré e após implementação\n",
    "plt.figure(figsize=[15, 8])\n",
    "\n",
    "grafico_chamados = sns.lineplot(x='Data',\n",
    "                                y='Id',\n",
    "                                data=analise_chamados,\n",
    "                                color='green')\n",
    "\n",
    "plt.title('Análise de Chamados Abertos por Dia', \n",
    "          size=25, \n",
    "          pad=15)\n",
    "plt.xlabel('Dias', size=16)\n",
    "plt.xticks([])\n",
    "plt.ylabel('Chamados Abertos', size=16)\n",
    "plt.axvline(x='2020-08-01', \n",
    "            ymin=0, \n",
    "            ymax=max(analise_chamados['Id']),\n",
    "            color='b',\n",
    "            linestyle='--')\n",
    "\n",
    "plt.annotate('Nova Funcionalidade',\n",
    "             xy=('2020-08-01', 100),\n",
    "             xytext=('2020-08-10', 50),\n",
    "             arrowprops=dict(facecolor='red', shrink=0.05))\n",
    "\n",
    "plt.savefig('grafico_ChamadosAbertosPorDia.png') #salvando o gráfico gerado em uma figura png\n",
    "grafico_chamados"
   ]
  },
  {
   "cell_type": "markdown",
   "id": "37f94737",
   "metadata": {},
   "source": [
    "#### 4.2 Análise dos chamados pela média diária, antes e após a implementação da funcionalidade"
   ]
  },
  {
   "cell_type": "code",
   "execution_count": 36,
   "id": "5379e1c1",
   "metadata": {},
   "outputs": [],
   "source": [
    "analise_chamados['nova_implementacao'] = analise_chamados['Data'].map(lambda x: 'anterior' if x < '2020-08-01' else 'posterior')\n",
    "#criando coluna para analisar se a data do chamado é anterior ou posterior a implementação da funcionalidade"
   ]
  },
  {
   "cell_type": "code",
   "execution_count": 37,
   "id": "45555497",
   "metadata": {},
   "outputs": [
    {
     "data": {
      "text/html": [
       "<div>\n",
       "<style scoped>\n",
       "    .dataframe tbody tr th:only-of-type {\n",
       "        vertical-align: middle;\n",
       "    }\n",
       "\n",
       "    .dataframe tbody tr th {\n",
       "        vertical-align: top;\n",
       "    }\n",
       "\n",
       "    .dataframe thead th {\n",
       "        text-align: right;\n",
       "    }\n",
       "</style>\n",
       "<table border=\"1\" class=\"dataframe\">\n",
       "  <thead>\n",
       "    <tr style=\"text-align: right;\">\n",
       "      <th></th>\n",
       "      <th>Id</th>\n",
       "    </tr>\n",
       "  </thead>\n",
       "  <tbody>\n",
       "    <tr>\n",
       "      <th>count</th>\n",
       "      <td>245.000000</td>\n",
       "    </tr>\n",
       "    <tr>\n",
       "      <th>mean</th>\n",
       "      <td>316.281633</td>\n",
       "    </tr>\n",
       "    <tr>\n",
       "      <th>std</th>\n",
       "      <td>261.634001</td>\n",
       "    </tr>\n",
       "    <tr>\n",
       "      <th>min</th>\n",
       "      <td>1.000000</td>\n",
       "    </tr>\n",
       "    <tr>\n",
       "      <th>25%</th>\n",
       "      <td>75.000000</td>\n",
       "    </tr>\n",
       "    <tr>\n",
       "      <th>50%</th>\n",
       "      <td>208.000000</td>\n",
       "    </tr>\n",
       "    <tr>\n",
       "      <th>75%</th>\n",
       "      <td>587.000000</td>\n",
       "    </tr>\n",
       "    <tr>\n",
       "      <th>max</th>\n",
       "      <td>1008.000000</td>\n",
       "    </tr>\n",
       "  </tbody>\n",
       "</table>\n",
       "</div>"
      ],
      "text/plain": [
       "                Id\n",
       "count   245.000000\n",
       "mean    316.281633\n",
       "std     261.634001\n",
       "min       1.000000\n",
       "25%      75.000000\n",
       "50%     208.000000\n",
       "75%     587.000000\n",
       "max    1008.000000"
      ]
     },
     "execution_count": 37,
     "metadata": {},
     "output_type": "execute_result"
    }
   ],
   "source": [
    "analise_chamados.describe() #obtendo uma estatística descritiva dos dados"
   ]
  },
  {
   "cell_type": "code",
   "execution_count": 38,
   "id": "16a40bb8",
   "metadata": {},
   "outputs": [
    {
     "name": "stderr",
     "output_type": "stream",
     "text": [
      "C:\\Users\\fvcar\\AppData\\Local\\Temp\\ipykernel_13276\\633244764.py:1: FutureWarning: The default value of numeric_only in DataFrameGroupBy.sum is deprecated. In a future version, numeric_only will default to False. Either specify numeric_only or select only columns which should be valid for the function.\n",
      "  anterior = analise_chamados.query(\"nova_implementacao == 'anterior'\").groupby('Data').sum()\n",
      "C:\\Users\\fvcar\\AppData\\Local\\Temp\\ipykernel_13276\\633244764.py:2: FutureWarning: The default value of numeric_only in DataFrameGroupBy.sum is deprecated. In a future version, numeric_only will default to False. Either specify numeric_only or select only columns which should be valid for the function.\n",
      "  posterior = analise_chamados.query(\"nova_implementacao == 'posterior'\").groupby('Data').sum()\n"
     ]
    }
   ],
   "source": [
    "anterior = analise_chamados.query(\"nova_implementacao == 'anterior'\").groupby('Data').sum()\n",
    "posterior = analise_chamados.query(\"nova_implementacao == 'posterior'\").groupby('Data').sum()"
   ]
  },
  {
   "cell_type": "code",
   "execution_count": 39,
   "id": "d6289e72",
   "metadata": {},
   "outputs": [],
   "source": [
    "U, p = stats.mannwhitneyu(anterior, posterior, alternative='two-sided') #aplicando o teste u nas amostras"
   ]
  },
  {
   "cell_type": "code",
   "execution_count": 40,
   "id": "a0e56a10",
   "metadata": {},
   "outputs": [
    {
     "name": "stdout",
     "output_type": "stream",
     "text": [
      "p-value = [7.66472136e-22].\n",
      "Amostra de dados significativamente diferentes a um nível de significância de 5%.\n"
     ]
    }
   ],
   "source": [
    "if p < 0.05:\n",
    "    print(f'p-value = {p}.\\nAmostra de dados significativamente diferentes a um nível de significância de 5%.') #mostrando pvalor"
   ]
  },
  {
   "cell_type": "code",
   "execution_count": 41,
   "id": "819a8fe1",
   "metadata": {},
   "outputs": [
    {
     "data": {
      "text/plain": [
       "<AxesSubplot: title={'center': 'Média Diária de Chamados Abertos x Implementação da Nova Funcionalidade'}, xlabel='Implementação da Funcionalidade', ylabel='Chamados'>"
      ]
     },
     "execution_count": 41,
     "metadata": {},
     "output_type": "execute_result"
    },
    {
     "data": {
      "image/png": "[encoded data removed]",
      "text/plain": [
       "<Figure size 1500x800 with 1 Axes>"
      ]
     },
     "metadata": {},
     "output_type": "display_data"
    }
   ],
   "source": [
    "#criando um gráfico comparativo das médias diárias de abertura de chamados anteriores e posteriores à funcionalidade\n",
    "plt.figure(figsize=[15, 8])\n",
    "\n",
    "media_chamados = sns.boxplot(x='nova_implementacao', \n",
    "                             y='Id',                         \n",
    "                             data=analise_chamados,\n",
    "                             color='green',\n",
    "                             medianprops={'color': 'white'})\n",
    "\n",
    "plt.title('Média Diária de Chamados Abertos x Implementação da Nova Funcionalidade', \n",
    "          size=25,\n",
    "          pad=15)\n",
    "plt.ylabel('Chamados', size=16)\n",
    "plt.xlabel('Implementação da Funcionalidade', size=16)\n",
    "\n",
    "ticks, labels = plt.xticks()\n",
    "plt.xticks(ticks, labels=['Anterior à funcionalidade', 'Posterior à funcionalidade'], size=12)\n",
    "\n",
    "plt.annotate(f'P-value: {p}',\n",
    "             xy=(0, 900),\n",
    "             xytext=(0, 900),\n",
    "             size = 20) #incluindo o p-valor no gráfico\n",
    "\n",
    "plt.savefig('grafico_MediaDiariaChamados.png') #salvando o gráfico gerado em uma figura png\n",
    "media_chamados"
   ]
  },
  {
   "cell_type": "code",
   "execution_count": 42,
   "id": "737ce241",
   "metadata": {},
   "outputs": [],
   "source": [
    "media_anterior = anterior.mean()[0]\n",
    "media_posterior = posterior.mean()[0]\n",
    "chamados_anterior = anterior.sum()[0]\n",
    "chamados_posterior = posterior.sum()[0]\n",
    "\n",
    "frame_medias = pd.DataFrame(data=[[chamados_anterior, media_anterior],\n",
    "                                  [chamados_posterior, media_posterior], \n",
    "                                  [round(chamados_posterior/chamados_anterior,2), round(media_posterior / media_anterior, 2)]],\n",
    "                            columns=['Qtd.Chamados', 'Média Chamados'],\n",
    "                            index=['Anterior à Funcionalidade', 'Posterior à Funcionalidade', 'Variação'])\n",
    "\n",
    "dfi.export(frame_medias, 'frame_medias.png')\n",
    "#criando um frame descritivo do volume de chamados e exportando em png"
   ]
  },
  {
   "cell_type": "code",
   "execution_count": 43,
   "id": "de8d22a6",
   "metadata": {},
   "outputs": [
    {
     "data": {
      "text/html": [
       "<div>\n",
       "<style scoped>\n",
       "    .dataframe tbody tr th:only-of-type {\n",
       "        vertical-align: middle;\n",
       "    }\n",
       "\n",
       "    .dataframe tbody tr th {\n",
       "        vertical-align: top;\n",
       "    }\n",
       "\n",
       "    .dataframe thead th {\n",
       "        text-align: right;\n",
       "    }\n",
       "</style>\n",
       "<table border=\"1\" class=\"dataframe\">\n",
       "  <thead>\n",
       "    <tr style=\"text-align: right;\">\n",
       "      <th></th>\n",
       "      <th>Qtd.Chamados</th>\n",
       "      <th>Média Chamados</th>\n",
       "    </tr>\n",
       "  </thead>\n",
       "  <tbody>\n",
       "    <tr>\n",
       "      <th>Anterior à Funcionalidade</th>\n",
       "      <td>30412.00</td>\n",
       "      <td>196.206452</td>\n",
       "    </tr>\n",
       "    <tr>\n",
       "      <th>Posterior à Funcionalidade</th>\n",
       "      <td>47077.00</td>\n",
       "      <td>523.077778</td>\n",
       "    </tr>\n",
       "    <tr>\n",
       "      <th>Variação</th>\n",
       "      <td>1.55</td>\n",
       "      <td>2.670000</td>\n",
       "    </tr>\n",
       "  </tbody>\n",
       "</table>\n",
       "</div>"
      ],
      "text/plain": [
       "                            Qtd.Chamados  Média Chamados\n",
       "Anterior à Funcionalidade       30412.00      196.206452\n",
       "Posterior à Funcionalidade      47077.00      523.077778\n",
       "Variação                            1.55        2.670000"
      ]
     },
     "execution_count": 43,
     "metadata": {},
     "output_type": "execute_result"
    }
   ],
   "source": [
    "frame_medias"
   ]
  },
  {
   "cell_type": "markdown",
   "id": "ffed532e",
   "metadata": {},
   "source": [
    "#### 4.3 Análise do volume de chamados com relação ao tempo de credenciamento do cliente"
   ]
  },
  {
   "cell_type": "code",
   "execution_count": 44,
   "id": "ed3acd02",
   "metadata": {},
   "outputs": [
    {
     "data": {
      "text/plain": [
       "count                         77489\n",
       "mean     41 days 02:41:39.358618642\n",
       "std      65 days 21:54:03.430446616\n",
       "min             -231 days +00:00:00\n",
       "25%                 7 days 00:00:00\n",
       "50%                17 days 00:00:00\n",
       "75%                47 days 00:00:00\n",
       "max               457 days 00:00:00\n",
       "Name: Dias_Credenciado, dtype: object"
      ]
     },
     "execution_count": 44,
     "metadata": {},
     "output_type": "execute_result"
    }
   ],
   "source": [
    "cases['Dias_Credenciado'].describe()"
   ]
  },
  {
   "cell_type": "code",
   "execution_count": 45,
   "id": "0bab787a",
   "metadata": {},
   "outputs": [
    {
     "data": {
      "text/html": [
       "<div>\n",
       "<style scoped>\n",
       "    .dataframe tbody tr th:only-of-type {\n",
       "        vertical-align: middle;\n",
       "    }\n",
       "\n",
       "    .dataframe tbody tr th {\n",
       "        vertical-align: top;\n",
       "    }\n",
       "\n",
       "    .dataframe thead th {\n",
       "        text-align: right;\n",
       "    }\n",
       "</style>\n",
       "<table border=\"1\" class=\"dataframe\">\n",
       "  <thead>\n",
       "    <tr style=\"text-align: right;\">\n",
       "      <th></th>\n",
       "      <th>Id</th>\n",
       "      <th>Data</th>\n",
       "      <th>Canal</th>\n",
       "      <th>Espera</th>\n",
       "      <th>Atendido</th>\n",
       "      <th>Pesquisa_Satisfacao</th>\n",
       "      <th>Assunto_Principal</th>\n",
       "      <th>SubAssunto_01</th>\n",
       "      <th>SubAssunto_02</th>\n",
       "      <th>Data_Credenciamento</th>\n",
       "      <th>Estado_Entrega</th>\n",
       "      <th>Produto_Adquirido</th>\n",
       "      <th>Dias_Credenciado</th>\n",
       "    </tr>\n",
       "  </thead>\n",
       "  <tbody>\n",
       "    <tr>\n",
       "      <th>56</th>\n",
       "      <td>0013j00002zg2jKAAQ</td>\n",
       "      <td>2020-09-14</td>\n",
       "      <td>2.0</td>\n",
       "      <td>8.0</td>\n",
       "      <td>Sim</td>\n",
       "      <td>NaN</td>\n",
       "      <td>Aplicativo</td>\n",
       "      <td>Cartões</td>\n",
       "      <td>Ativação</td>\n",
       "      <td>2020-09-15</td>\n",
       "      <td>PA</td>\n",
       "      <td>T2</td>\n",
       "      <td>-1 days</td>\n",
       "    </tr>\n",
       "    <tr>\n",
       "      <th>64</th>\n",
       "      <td>0013j00002u3av5AAA</td>\n",
       "      <td>2020-06-03</td>\n",
       "      <td>2.0</td>\n",
       "      <td>4.0</td>\n",
       "      <td>Sim</td>\n",
       "      <td>Enviado</td>\n",
       "      <td>Feedback do cliente</td>\n",
       "      <td>Aplicativo</td>\n",
       "      <td>Outros</td>\n",
       "      <td>2020-06-05</td>\n",
       "      <td>MT</td>\n",
       "      <td>T1</td>\n",
       "      <td>-2 days</td>\n",
       "    </tr>\n",
       "    <tr>\n",
       "      <th>149</th>\n",
       "      <td>0013j00002ttVPwAAM</td>\n",
       "      <td>2020-06-01</td>\n",
       "      <td>2.0</td>\n",
       "      <td>11.0</td>\n",
       "      <td>Sim</td>\n",
       "      <td>Enviado</td>\n",
       "      <td>Logística</td>\n",
       "      <td>Envio de Cartão</td>\n",
       "      <td>Ineficiência</td>\n",
       "      <td>2020-06-02</td>\n",
       "      <td>PI</td>\n",
       "      <td>T3</td>\n",
       "      <td>-1 days</td>\n",
       "    </tr>\n",
       "    <tr>\n",
       "      <th>199</th>\n",
       "      <td>0013j00002yzcmdAAA</td>\n",
       "      <td>2020-08-31</td>\n",
       "      <td>2.0</td>\n",
       "      <td>7.0</td>\n",
       "      <td>Sim</td>\n",
       "      <td>NaN</td>\n",
       "      <td>Produto</td>\n",
       "      <td>Cartão pré-pago</td>\n",
       "      <td>Dúvidas</td>\n",
       "      <td>2020-09-01</td>\n",
       "      <td>GO</td>\n",
       "      <td>T1</td>\n",
       "      <td>-1 days</td>\n",
       "    </tr>\n",
       "    <tr>\n",
       "      <th>205</th>\n",
       "      <td>0013j000030E24pAAC</td>\n",
       "      <td>2020-10-22</td>\n",
       "      <td>2.0</td>\n",
       "      <td>8.0</td>\n",
       "      <td>Sim</td>\n",
       "      <td>NaN</td>\n",
       "      <td>Aplicativo</td>\n",
       "      <td>Dúvidas funcionalidades App</td>\n",
       "      <td>Transferência bancária</td>\n",
       "      <td>2020-10-27</td>\n",
       "      <td>SC</td>\n",
       "      <td>T1</td>\n",
       "      <td>-5 days</td>\n",
       "    </tr>\n",
       "    <tr>\n",
       "      <th>...</th>\n",
       "      <td>...</td>\n",
       "      <td>...</td>\n",
       "      <td>...</td>\n",
       "      <td>...</td>\n",
       "      <td>...</td>\n",
       "      <td>...</td>\n",
       "      <td>...</td>\n",
       "      <td>...</td>\n",
       "      <td>...</td>\n",
       "      <td>...</td>\n",
       "      <td>...</td>\n",
       "      <td>...</td>\n",
       "      <td>...</td>\n",
       "    </tr>\n",
       "    <tr>\n",
       "      <th>126826</th>\n",
       "      <td>0013j000030EXC3AAO</td>\n",
       "      <td>2020-10-26</td>\n",
       "      <td>2.0</td>\n",
       "      <td>12.0</td>\n",
       "      <td>Sim</td>\n",
       "      <td>NaN</td>\n",
       "      <td>NaN</td>\n",
       "      <td>NaN</td>\n",
       "      <td>NaN</td>\n",
       "      <td>2020-10-27</td>\n",
       "      <td>ES</td>\n",
       "      <td>T1</td>\n",
       "      <td>-1 days</td>\n",
       "    </tr>\n",
       "    <tr>\n",
       "      <th>126827</th>\n",
       "      <td>0013j000030EXC3AAO</td>\n",
       "      <td>2020-10-26</td>\n",
       "      <td>2.0</td>\n",
       "      <td>12.0</td>\n",
       "      <td>Sim</td>\n",
       "      <td>NaN</td>\n",
       "      <td>NaN</td>\n",
       "      <td>NaN</td>\n",
       "      <td>NaN</td>\n",
       "      <td>2020-10-27</td>\n",
       "      <td>ES</td>\n",
       "      <td>T1</td>\n",
       "      <td>-1 days</td>\n",
       "    </tr>\n",
       "    <tr>\n",
       "      <th>126847</th>\n",
       "      <td>0011L00002VZbzkQAD</td>\n",
       "      <td>2020-03-01</td>\n",
       "      <td>2.0</td>\n",
       "      <td>43.0</td>\n",
       "      <td>Sim</td>\n",
       "      <td>Enviado</td>\n",
       "      <td>NaN</td>\n",
       "      <td>NaN</td>\n",
       "      <td>NaN</td>\n",
       "      <td>2020-06-09</td>\n",
       "      <td>DF</td>\n",
       "      <td>T3</td>\n",
       "      <td>-100 days</td>\n",
       "    </tr>\n",
       "    <tr>\n",
       "      <th>126935</th>\n",
       "      <td>0013j00002tgZ6xAAE</td>\n",
       "      <td>2020-08-31</td>\n",
       "      <td>2.0</td>\n",
       "      <td>6.0</td>\n",
       "      <td>Sim</td>\n",
       "      <td>NaN</td>\n",
       "      <td>NaN</td>\n",
       "      <td>NaN</td>\n",
       "      <td>NaN</td>\n",
       "      <td>2020-09-01</td>\n",
       "      <td>CE</td>\n",
       "      <td>T1</td>\n",
       "      <td>-1 days</td>\n",
       "    </tr>\n",
       "    <tr>\n",
       "      <th>126947</th>\n",
       "      <td>0013j00002twvTwAAI</td>\n",
       "      <td>2020-05-21</td>\n",
       "      <td>2.0</td>\n",
       "      <td>33.0</td>\n",
       "      <td>Sim</td>\n",
       "      <td>Enviado</td>\n",
       "      <td>NaN</td>\n",
       "      <td>NaN</td>\n",
       "      <td>NaN</td>\n",
       "      <td>2020-05-22</td>\n",
       "      <td>SC</td>\n",
       "      <td>T3</td>\n",
       "      <td>-1 days</td>\n",
       "    </tr>\n",
       "  </tbody>\n",
       "</table>\n",
       "<p>3768 rows × 13 columns</p>\n",
       "</div>"
      ],
      "text/plain": [
       "                        Id        Data  Canal  Espera Atendido  \\\n",
       "56      0013j00002zg2jKAAQ  2020-09-14    2.0     8.0      Sim   \n",
       "64      0013j00002u3av5AAA  2020-06-03    2.0     4.0      Sim   \n",
       "149     0013j00002ttVPwAAM  2020-06-01    2.0    11.0      Sim   \n",
       "199     0013j00002yzcmdAAA  2020-08-31    2.0     7.0      Sim   \n",
       "205     0013j000030E24pAAC  2020-10-22    2.0     8.0      Sim   \n",
       "...                    ...         ...    ...     ...      ...   \n",
       "126826  0013j000030EXC3AAO  2020-10-26    2.0    12.0      Sim   \n",
       "126827  0013j000030EXC3AAO  2020-10-26    2.0    12.0      Sim   \n",
       "126847  0011L00002VZbzkQAD  2020-03-01    2.0    43.0      Sim   \n",
       "126935  0013j00002tgZ6xAAE  2020-08-31    2.0     6.0      Sim   \n",
       "126947  0013j00002twvTwAAI  2020-05-21    2.0    33.0      Sim   \n",
       "\n",
       "       Pesquisa_Satisfacao    Assunto_Principal                SubAssunto_01  \\\n",
       "56                     NaN           Aplicativo                      Cartões   \n",
       "64                 Enviado  Feedback do cliente                   Aplicativo   \n",
       "149                Enviado            Logística              Envio de Cartão   \n",
       "199                    NaN              Produto              Cartão pré-pago   \n",
       "205                    NaN           Aplicativo  Dúvidas funcionalidades App   \n",
       "...                    ...                  ...                          ...   \n",
       "126826                 NaN                  NaN                          NaN   \n",
       "126827                 NaN                  NaN                          NaN   \n",
       "126847             Enviado                  NaN                          NaN   \n",
       "126935                 NaN                  NaN                          NaN   \n",
       "126947             Enviado                  NaN                          NaN   \n",
       "\n",
       "                 SubAssunto_02 Data_Credenciamento Estado_Entrega  \\\n",
       "56                    Ativação          2020-09-15             PA   \n",
       "64                      Outros          2020-06-05             MT   \n",
       "149               Ineficiência          2020-06-02             PI   \n",
       "199                    Dúvidas          2020-09-01             GO   \n",
       "205     Transferência bancária          2020-10-27             SC   \n",
       "...                        ...                 ...            ...   \n",
       "126826                     NaN          2020-10-27             ES   \n",
       "126827                     NaN          2020-10-27             ES   \n",
       "126847                     NaN          2020-06-09             DF   \n",
       "126935                     NaN          2020-09-01             CE   \n",
       "126947                     NaN          2020-05-22             SC   \n",
       "\n",
       "       Produto_Adquirido Dias_Credenciado  \n",
       "56                    T2          -1 days  \n",
       "64                    T1          -2 days  \n",
       "149                   T3          -1 days  \n",
       "199                   T1          -1 days  \n",
       "205                   T1          -5 days  \n",
       "...                  ...              ...  \n",
       "126826                T1          -1 days  \n",
       "126827                T1          -1 days  \n",
       "126847                T3        -100 days  \n",
       "126935                T1          -1 days  \n",
       "126947                T3          -1 days  \n",
       "\n",
       "[3768 rows x 13 columns]"
      ]
     },
     "execution_count": 45,
     "metadata": {},
     "output_type": "execute_result"
    }
   ],
   "source": [
    "cases.query(\"Dias_Credenciado < '0 days'\") #filtrando resultados de dias de credenciamento < 0"
   ]
  },
  {
   "cell_type": "code",
   "execution_count": 46,
   "id": "c4a9d176",
   "metadata": {},
   "outputs": [],
   "source": [
    "analise_clientes = cases.query(\"Dias_Credenciado >= '0 days'\") #criando frame aonde os dias de credenciamento seja >= 0"
   ]
  },
  {
   "cell_type": "code",
   "execution_count": 47,
   "id": "ab131b25",
   "metadata": {},
   "outputs": [
    {
     "data": {
      "text/html": [
       "<div>\n",
       "<style scoped>\n",
       "    .dataframe tbody tr th:only-of-type {\n",
       "        vertical-align: middle;\n",
       "    }\n",
       "\n",
       "    .dataframe tbody tr th {\n",
       "        vertical-align: top;\n",
       "    }\n",
       "\n",
       "    .dataframe thead th {\n",
       "        text-align: right;\n",
       "    }\n",
       "</style>\n",
       "<table border=\"1\" class=\"dataframe\">\n",
       "  <thead>\n",
       "    <tr style=\"text-align: right;\">\n",
       "      <th></th>\n",
       "      <th>Id</th>\n",
       "      <th>Data</th>\n",
       "      <th>Canal</th>\n",
       "      <th>Espera</th>\n",
       "      <th>Atendido</th>\n",
       "      <th>Pesquisa_Satisfacao</th>\n",
       "      <th>Assunto_Principal</th>\n",
       "      <th>SubAssunto_01</th>\n",
       "      <th>SubAssunto_02</th>\n",
       "      <th>Data_Credenciamento</th>\n",
       "      <th>Estado_Entrega</th>\n",
       "      <th>Produto_Adquirido</th>\n",
       "      <th>Dias_Credenciado</th>\n",
       "    </tr>\n",
       "  </thead>\n",
       "  <tbody>\n",
       "    <tr>\n",
       "      <th>4</th>\n",
       "      <td>0013j00002z0CeEAAU</td>\n",
       "      <td>2020-07-31</td>\n",
       "      <td>2.0</td>\n",
       "      <td>15.0</td>\n",
       "      <td>Sim</td>\n",
       "      <td>NaN</td>\n",
       "      <td>Pedido</td>\n",
       "      <td>Cancelamento</td>\n",
       "      <td>Outros</td>\n",
       "      <td>2020-07-28</td>\n",
       "      <td>RJ</td>\n",
       "      <td>T3</td>\n",
       "      <td>3 days</td>\n",
       "    </tr>\n",
       "    <tr>\n",
       "      <th>5</th>\n",
       "      <td>0013j00002z0CeEAAU</td>\n",
       "      <td>2020-07-31</td>\n",
       "      <td>2.0</td>\n",
       "      <td>15.0</td>\n",
       "      <td>Sim</td>\n",
       "      <td>NaN</td>\n",
       "      <td>Produto</td>\n",
       "      <td>Cartão pré-pago</td>\n",
       "      <td>Dúvidas</td>\n",
       "      <td>2020-07-28</td>\n",
       "      <td>RJ</td>\n",
       "      <td>T3</td>\n",
       "      <td>3 days</td>\n",
       "    </tr>\n",
       "    <tr>\n",
       "      <th>6</th>\n",
       "      <td>0013j00002z0CeEAAU</td>\n",
       "      <td>2020-09-23</td>\n",
       "      <td>2.0</td>\n",
       "      <td>1.0</td>\n",
       "      <td>Sim</td>\n",
       "      <td>NaN</td>\n",
       "      <td>Aplicativo</td>\n",
       "      <td>Dúvidas funcionalidades App</td>\n",
       "      <td>Redefinição de senha</td>\n",
       "      <td>2020-07-28</td>\n",
       "      <td>RJ</td>\n",
       "      <td>T3</td>\n",
       "      <td>57 days</td>\n",
       "    </tr>\n",
       "    <tr>\n",
       "      <th>7</th>\n",
       "      <td>0013j00002zQgldAAC</td>\n",
       "      <td>2020-08-29</td>\n",
       "      <td>2.0</td>\n",
       "      <td>6.0</td>\n",
       "      <td>Sim</td>\n",
       "      <td>NaN</td>\n",
       "      <td>Aplicativo</td>\n",
       "      <td>Dúvidas funcionalidades App</td>\n",
       "      <td>Prazos e taxas</td>\n",
       "      <td>2020-08-28</td>\n",
       "      <td>RJ</td>\n",
       "      <td>T1</td>\n",
       "      <td>1 days</td>\n",
       "    </tr>\n",
       "    <tr>\n",
       "      <th>8</th>\n",
       "      <td>0013j00002zQgldAAC</td>\n",
       "      <td>2020-08-29</td>\n",
       "      <td>2.0</td>\n",
       "      <td>6.0</td>\n",
       "      <td>Sim</td>\n",
       "      <td>NaN</td>\n",
       "      <td>Logística</td>\n",
       "      <td>OS</td>\n",
       "      <td>Confirmação/alteração de dados</td>\n",
       "      <td>2020-08-28</td>\n",
       "      <td>RJ</td>\n",
       "      <td>T1</td>\n",
       "      <td>1 days</td>\n",
       "    </tr>\n",
       "  </tbody>\n",
       "</table>\n",
       "</div>"
      ],
      "text/plain": [
       "                   Id        Data  Canal  Espera Atendido Pesquisa_Satisfacao  \\\n",
       "4  0013j00002z0CeEAAU  2020-07-31    2.0    15.0      Sim                 NaN   \n",
       "5  0013j00002z0CeEAAU  2020-07-31    2.0    15.0      Sim                 NaN   \n",
       "6  0013j00002z0CeEAAU  2020-09-23    2.0     1.0      Sim                 NaN   \n",
       "7  0013j00002zQgldAAC  2020-08-29    2.0     6.0      Sim                 NaN   \n",
       "8  0013j00002zQgldAAC  2020-08-29    2.0     6.0      Sim                 NaN   \n",
       "\n",
       "  Assunto_Principal                SubAssunto_01  \\\n",
       "4            Pedido                 Cancelamento   \n",
       "5           Produto              Cartão pré-pago   \n",
       "6        Aplicativo  Dúvidas funcionalidades App   \n",
       "7        Aplicativo  Dúvidas funcionalidades App   \n",
       "8         Logística                           OS   \n",
       "\n",
       "                    SubAssunto_02 Data_Credenciamento Estado_Entrega  \\\n",
       "4                          Outros          2020-07-28             RJ   \n",
       "5                         Dúvidas          2020-07-28             RJ   \n",
       "6            Redefinição de senha          2020-07-28             RJ   \n",
       "7                  Prazos e taxas          2020-08-28             RJ   \n",
       "8  Confirmação/alteração de dados          2020-08-28             RJ   \n",
       "\n",
       "  Produto_Adquirido Dias_Credenciado  \n",
       "4                T3           3 days  \n",
       "5                T3           3 days  \n",
       "6                T3          57 days  \n",
       "7                T1           1 days  \n",
       "8                T1           1 days  "
      ]
     },
     "execution_count": 47,
     "metadata": {},
     "output_type": "execute_result"
    }
   ],
   "source": [
    "analise_clientes.head()"
   ]
  },
  {
   "cell_type": "code",
   "execution_count": 48,
   "id": "32ea9fd8",
   "metadata": {},
   "outputs": [
    {
     "name": "stderr",
     "output_type": "stream",
     "text": [
      "C:\\Users\\fvcar\\AppData\\Local\\Temp\\ipykernel_13276\\4129390239.py:17: SettingWithCopyWarning: \n",
      "A value is trying to be set on a copy of a slice from a DataFrame.\n",
      "Try using .loc[row_indexer,col_indexer] = value instead\n",
      "\n",
      "See the caveats in the documentation: https://pandas.pydata.org/pandas-docs/stable/user_guide/indexing.html#returning-a-view-versus-a-copy\n",
      "  analise_clientes['Classificacao'] = classificacao\n"
     ]
    }
   ],
   "source": [
    "#criação de coluna classificando o cliente pelo tempo de credenciamento\n",
    "classificacao = []\n",
    "\n",
    "for i in analise_clientes['Dias_Credenciado']:\n",
    "    \n",
    "    dias = i / timedelta(days=1)\n",
    "    \n",
    "    if dias <= 30:\n",
    "        classificacao.append('<1 mês')\n",
    "    elif dias > 30 and dias <= 90:\n",
    "        classificacao.append('<3 meses')\n",
    "    elif dias > 90 and dias <= 180:\n",
    "        classificacao.append('<6 meses')\n",
    "    else:\n",
    "        classificacao.append('>6 meses')\n",
    "\n",
    "analise_clientes['Classificacao'] = classificacao\n",
    "                                                                            "
   ]
  },
  {
   "cell_type": "code",
   "execution_count": 49,
   "id": "f9b1fa61",
   "metadata": {},
   "outputs": [
    {
     "data": {
      "text/html": [
       "<div>\n",
       "<style scoped>\n",
       "    .dataframe tbody tr th:only-of-type {\n",
       "        vertical-align: middle;\n",
       "    }\n",
       "\n",
       "    .dataframe tbody tr th {\n",
       "        vertical-align: top;\n",
       "    }\n",
       "\n",
       "    .dataframe thead th {\n",
       "        text-align: right;\n",
       "    }\n",
       "</style>\n",
       "<table border=\"1\" class=\"dataframe\">\n",
       "  <thead>\n",
       "    <tr style=\"text-align: right;\">\n",
       "      <th></th>\n",
       "      <th>Id</th>\n",
       "      <th>Data</th>\n",
       "      <th>Canal</th>\n",
       "      <th>Espera</th>\n",
       "      <th>Atendido</th>\n",
       "      <th>Pesquisa_Satisfacao</th>\n",
       "      <th>Assunto_Principal</th>\n",
       "      <th>SubAssunto_01</th>\n",
       "      <th>SubAssunto_02</th>\n",
       "      <th>Data_Credenciamento</th>\n",
       "      <th>Estado_Entrega</th>\n",
       "      <th>Produto_Adquirido</th>\n",
       "      <th>Dias_Credenciado</th>\n",
       "      <th>Classificacao</th>\n",
       "    </tr>\n",
       "  </thead>\n",
       "  <tbody>\n",
       "    <tr>\n",
       "      <th>4</th>\n",
       "      <td>0013j00002z0CeEAAU</td>\n",
       "      <td>2020-07-31</td>\n",
       "      <td>2.0</td>\n",
       "      <td>15.0</td>\n",
       "      <td>Sim</td>\n",
       "      <td>NaN</td>\n",
       "      <td>Pedido</td>\n",
       "      <td>Cancelamento</td>\n",
       "      <td>Outros</td>\n",
       "      <td>2020-07-28</td>\n",
       "      <td>RJ</td>\n",
       "      <td>T3</td>\n",
       "      <td>3 days</td>\n",
       "      <td>&lt;1 mês</td>\n",
       "    </tr>\n",
       "    <tr>\n",
       "      <th>5</th>\n",
       "      <td>0013j00002z0CeEAAU</td>\n",
       "      <td>2020-07-31</td>\n",
       "      <td>2.0</td>\n",
       "      <td>15.0</td>\n",
       "      <td>Sim</td>\n",
       "      <td>NaN</td>\n",
       "      <td>Produto</td>\n",
       "      <td>Cartão pré-pago</td>\n",
       "      <td>Dúvidas</td>\n",
       "      <td>2020-07-28</td>\n",
       "      <td>RJ</td>\n",
       "      <td>T3</td>\n",
       "      <td>3 days</td>\n",
       "      <td>&lt;1 mês</td>\n",
       "    </tr>\n",
       "    <tr>\n",
       "      <th>6</th>\n",
       "      <td>0013j00002z0CeEAAU</td>\n",
       "      <td>2020-09-23</td>\n",
       "      <td>2.0</td>\n",
       "      <td>1.0</td>\n",
       "      <td>Sim</td>\n",
       "      <td>NaN</td>\n",
       "      <td>Aplicativo</td>\n",
       "      <td>Dúvidas funcionalidades App</td>\n",
       "      <td>Redefinição de senha</td>\n",
       "      <td>2020-07-28</td>\n",
       "      <td>RJ</td>\n",
       "      <td>T3</td>\n",
       "      <td>57 days</td>\n",
       "      <td>&lt;3 meses</td>\n",
       "    </tr>\n",
       "    <tr>\n",
       "      <th>7</th>\n",
       "      <td>0013j00002zQgldAAC</td>\n",
       "      <td>2020-08-29</td>\n",
       "      <td>2.0</td>\n",
       "      <td>6.0</td>\n",
       "      <td>Sim</td>\n",
       "      <td>NaN</td>\n",
       "      <td>Aplicativo</td>\n",
       "      <td>Dúvidas funcionalidades App</td>\n",
       "      <td>Prazos e taxas</td>\n",
       "      <td>2020-08-28</td>\n",
       "      <td>RJ</td>\n",
       "      <td>T1</td>\n",
       "      <td>1 days</td>\n",
       "      <td>&lt;1 mês</td>\n",
       "    </tr>\n",
       "    <tr>\n",
       "      <th>8</th>\n",
       "      <td>0013j00002zQgldAAC</td>\n",
       "      <td>2020-08-29</td>\n",
       "      <td>2.0</td>\n",
       "      <td>6.0</td>\n",
       "      <td>Sim</td>\n",
       "      <td>NaN</td>\n",
       "      <td>Logística</td>\n",
       "      <td>OS</td>\n",
       "      <td>Confirmação/alteração de dados</td>\n",
       "      <td>2020-08-28</td>\n",
       "      <td>RJ</td>\n",
       "      <td>T1</td>\n",
       "      <td>1 days</td>\n",
       "      <td>&lt;1 mês</td>\n",
       "    </tr>\n",
       "  </tbody>\n",
       "</table>\n",
       "</div>"
      ],
      "text/plain": [
       "                   Id        Data  Canal  Espera Atendido Pesquisa_Satisfacao  \\\n",
       "4  0013j00002z0CeEAAU  2020-07-31    2.0    15.0      Sim                 NaN   \n",
       "5  0013j00002z0CeEAAU  2020-07-31    2.0    15.0      Sim                 NaN   \n",
       "6  0013j00002z0CeEAAU  2020-09-23    2.0     1.0      Sim                 NaN   \n",
       "7  0013j00002zQgldAAC  2020-08-29    2.0     6.0      Sim                 NaN   \n",
       "8  0013j00002zQgldAAC  2020-08-29    2.0     6.0      Sim                 NaN   \n",
       "\n",
       "  Assunto_Principal                SubAssunto_01  \\\n",
       "4            Pedido                 Cancelamento   \n",
       "5           Produto              Cartão pré-pago   \n",
       "6        Aplicativo  Dúvidas funcionalidades App   \n",
       "7        Aplicativo  Dúvidas funcionalidades App   \n",
       "8         Logística                           OS   \n",
       "\n",
       "                    SubAssunto_02 Data_Credenciamento Estado_Entrega  \\\n",
       "4                          Outros          2020-07-28             RJ   \n",
       "5                         Dúvidas          2020-07-28             RJ   \n",
       "6            Redefinição de senha          2020-07-28             RJ   \n",
       "7                  Prazos e taxas          2020-08-28             RJ   \n",
       "8  Confirmação/alteração de dados          2020-08-28             RJ   \n",
       "\n",
       "  Produto_Adquirido Dias_Credenciado Classificacao  \n",
       "4                T3           3 days        <1 mês  \n",
       "5                T3           3 days        <1 mês  \n",
       "6                T3          57 days      <3 meses  \n",
       "7                T1           1 days        <1 mês  \n",
       "8                T1           1 days        <1 mês  "
      ]
     },
     "execution_count": 49,
     "metadata": {},
     "output_type": "execute_result"
    }
   ],
   "source": [
    "analise_clientes.head()"
   ]
  },
  {
   "cell_type": "code",
   "execution_count": 50,
   "id": "5307feaa",
   "metadata": {},
   "outputs": [],
   "source": [
    "clientes_por_classificacao = analise_clientes.groupby(\"Classificacao\").count()['Id'] #agrupando e contando por classificação\n",
    "clientes_por_classificacao = clientes_por_classificacao.reset_index()"
   ]
  },
  {
   "cell_type": "code",
   "execution_count": 51,
   "id": "d6dc0302",
   "metadata": {},
   "outputs": [
    {
     "data": {
      "text/html": [
       "<div>\n",
       "<style scoped>\n",
       "    .dataframe tbody tr th:only-of-type {\n",
       "        vertical-align: middle;\n",
       "    }\n",
       "\n",
       "    .dataframe tbody tr th {\n",
       "        vertical-align: top;\n",
       "    }\n",
       "\n",
       "    .dataframe thead th {\n",
       "        text-align: right;\n",
       "    }\n",
       "</style>\n",
       "<table border=\"1\" class=\"dataframe\">\n",
       "  <thead>\n",
       "    <tr style=\"text-align: right;\">\n",
       "      <th></th>\n",
       "      <th>Classificacao</th>\n",
       "      <th>Id</th>\n",
       "    </tr>\n",
       "  </thead>\n",
       "  <tbody>\n",
       "    <tr>\n",
       "      <th>0</th>\n",
       "      <td>&lt;1 mês</td>\n",
       "      <td>46594</td>\n",
       "    </tr>\n",
       "    <tr>\n",
       "      <th>1</th>\n",
       "      <td>&lt;3 meses</td>\n",
       "      <td>17561</td>\n",
       "    </tr>\n",
       "    <tr>\n",
       "      <th>2</th>\n",
       "      <td>&lt;6 meses</td>\n",
       "      <td>6163</td>\n",
       "    </tr>\n",
       "    <tr>\n",
       "      <th>3</th>\n",
       "      <td>&gt;6 meses</td>\n",
       "      <td>3403</td>\n",
       "    </tr>\n",
       "  </tbody>\n",
       "</table>\n",
       "</div>"
      ],
      "text/plain": [
       "  Classificacao     Id\n",
       "0        <1 mês  46594\n",
       "1      <3 meses  17561\n",
       "2      <6 meses   6163\n",
       "3      >6 meses   3403"
      ]
     },
     "execution_count": 51,
     "metadata": {},
     "output_type": "execute_result"
    }
   ],
   "source": [
    "clientes_por_classificacao"
   ]
  },
  {
   "cell_type": "code",
   "execution_count": 52,
   "id": "9795a81c",
   "metadata": {},
   "outputs": [
    {
     "data": {
      "text/plain": [
       "<AxesSubplot: title={'center': 'Volume de Chamados Abertos x Tempo de Credenciado do Cliente'}, xlabel='Volume de Chamados', ylabel='Tempo de Credenciado'>"
      ]
     },
     "execution_count": 52,
     "metadata": {},
     "output_type": "execute_result"
    },
    {
     "data": {
      "image/png": "[encoded data removed]",
      "text/plain": [
       "<Figure size 1500x800 with 1 Axes>"
      ]
     },
     "metadata": {},
     "output_type": "display_data"
    }
   ],
   "source": [
    "plt.figure(figsize=[15, 8])\n",
    "\n",
    "chamados_idade = sns.barplot(x='Id', \n",
    "                             y='Classificacao', \n",
    "                             data=clientes_por_classificacao, \n",
    "                             palette='crest')\n",
    "\n",
    "plt.title('Volume de Chamados Abertos x Tempo de Credenciado do Cliente', \n",
    "          size=25,\n",
    "          pad=15)\n",
    "plt.ylabel('Tempo de Credenciado', size=16)\n",
    "plt.xlabel('Volume de Chamados', size=16)\n",
    "\n",
    "plt.savefig('grafico_ChamadosPorIdade.png') #salvando o gráfico gerado em uma figura png\n",
    "chamados_idade"
   ]
  },
  {
   "cell_type": "markdown",
   "id": "90d6dd93",
   "metadata": {},
   "source": [
    "#### 4.4 Análise dos assuntos dos chamados"
   ]
  },
  {
   "cell_type": "code",
   "execution_count": 53,
   "id": "1d193dcb",
   "metadata": {},
   "outputs": [],
   "source": [
    "assuntoPrincipal = cases.groupby('Assunto_Principal').count()['Id']\n",
    "assuntoPrincipal = assuntoPrincipal.reset_index()\n",
    "assuntoPrincipal.rename(columns={'Id': 'Frequência'}, inplace=True)\n",
    "assuntoPrincipal.dropna(axis=0,\n",
    "                        how='any',\n",
    "                        inplace=True)\n",
    "categoria_assunto = assuntoPrincipal.sort_values(by='Frequência', ascending=False).head(10)\n",
    "categoria_assunto.set_index('Assunto_Principal', inplace=True)\n",
    "dfi.export(categoria_assunto, 'categorias_assunto.png')"
   ]
  },
  {
   "cell_type": "code",
   "execution_count": 54,
   "id": "85332887",
   "metadata": {},
   "outputs": [
    {
     "data": {
      "text/plain": [
       "0.5580404001456633"
      ]
     },
     "execution_count": 54,
     "metadata": {},
     "output_type": "execute_result"
    }
   ],
   "source": [
    "categoria_assunto.query('Frequência > 10000').sum()['Frequência'] / categoria_assunto['Frequência'].sum()"
   ]
  },
  {
   "cell_type": "code",
   "execution_count": 55,
   "id": "00c77c5a",
   "metadata": {},
   "outputs": [],
   "source": [
    "subassunto1 = cases.groupby('SubAssunto_01').count()['Id']\n",
    "subassunto1 = subassunto1.reset_index()\n",
    "subassunto1.rename(columns={'Id': 'Frequência'}, inplace=True)\n",
    "subassunto1.dropna(axis=0,\n",
    "                   how='any',\n",
    "                   inplace=True)\n",
    "subassunto = subassunto1.sort_values(by='Frequência', ascending=False).head(10)\n",
    "subassunto.set_index('SubAssunto_01', inplace=True)\n",
    "dfi.export(subassunto, 'subassunto.png')"
   ]
  },
  {
   "cell_type": "code",
   "execution_count": 56,
   "id": "35da224b",
   "metadata": {},
   "outputs": [
    {
     "data": {
      "text/html": [
       "<div>\n",
       "<style scoped>\n",
       "    .dataframe tbody tr th:only-of-type {\n",
       "        vertical-align: middle;\n",
       "    }\n",
       "\n",
       "    .dataframe tbody tr th {\n",
       "        vertical-align: top;\n",
       "    }\n",
       "\n",
       "    .dataframe thead th {\n",
       "        text-align: right;\n",
       "    }\n",
       "</style>\n",
       "<table border=\"1\" class=\"dataframe\">\n",
       "  <thead>\n",
       "    <tr style=\"text-align: right;\">\n",
       "      <th></th>\n",
       "      <th>Id</th>\n",
       "      <th>Data</th>\n",
       "      <th>Canal</th>\n",
       "      <th>Espera</th>\n",
       "      <th>Atendido</th>\n",
       "      <th>Pesquisa_Satisfacao</th>\n",
       "      <th>Assunto_Principal</th>\n",
       "      <th>SubAssunto_01</th>\n",
       "      <th>SubAssunto_02</th>\n",
       "      <th>Data_Credenciamento</th>\n",
       "      <th>Estado_Entrega</th>\n",
       "      <th>Produto_Adquirido</th>\n",
       "      <th>Dias_Credenciado</th>\n",
       "    </tr>\n",
       "  </thead>\n",
       "  <tbody>\n",
       "    <tr>\n",
       "      <th>4</th>\n",
       "      <td>0013j00002z0CeEAAU</td>\n",
       "      <td>2020-07-31</td>\n",
       "      <td>2.0</td>\n",
       "      <td>15.0</td>\n",
       "      <td>Sim</td>\n",
       "      <td>NaN</td>\n",
       "      <td>Pedido</td>\n",
       "      <td>Cancelamento</td>\n",
       "      <td>Outros</td>\n",
       "      <td>2020-07-28</td>\n",
       "      <td>RJ</td>\n",
       "      <td>T3</td>\n",
       "      <td>3 days</td>\n",
       "    </tr>\n",
       "    <tr>\n",
       "      <th>5</th>\n",
       "      <td>0013j00002z0CeEAAU</td>\n",
       "      <td>2020-07-31</td>\n",
       "      <td>2.0</td>\n",
       "      <td>15.0</td>\n",
       "      <td>Sim</td>\n",
       "      <td>NaN</td>\n",
       "      <td>Produto</td>\n",
       "      <td>Cartão pré-pago</td>\n",
       "      <td>Dúvidas</td>\n",
       "      <td>2020-07-28</td>\n",
       "      <td>RJ</td>\n",
       "      <td>T3</td>\n",
       "      <td>3 days</td>\n",
       "    </tr>\n",
       "    <tr>\n",
       "      <th>6</th>\n",
       "      <td>0013j00002z0CeEAAU</td>\n",
       "      <td>2020-09-23</td>\n",
       "      <td>2.0</td>\n",
       "      <td>1.0</td>\n",
       "      <td>Sim</td>\n",
       "      <td>NaN</td>\n",
       "      <td>Aplicativo</td>\n",
       "      <td>Dúvidas funcionalidades App</td>\n",
       "      <td>Redefinição de senha</td>\n",
       "      <td>2020-07-28</td>\n",
       "      <td>RJ</td>\n",
       "      <td>T3</td>\n",
       "      <td>57 days</td>\n",
       "    </tr>\n",
       "    <tr>\n",
       "      <th>7</th>\n",
       "      <td>0013j00002zQgldAAC</td>\n",
       "      <td>2020-08-29</td>\n",
       "      <td>2.0</td>\n",
       "      <td>6.0</td>\n",
       "      <td>Sim</td>\n",
       "      <td>NaN</td>\n",
       "      <td>Aplicativo</td>\n",
       "      <td>Dúvidas funcionalidades App</td>\n",
       "      <td>Prazos e taxas</td>\n",
       "      <td>2020-08-28</td>\n",
       "      <td>RJ</td>\n",
       "      <td>T1</td>\n",
       "      <td>1 days</td>\n",
       "    </tr>\n",
       "    <tr>\n",
       "      <th>8</th>\n",
       "      <td>0013j00002zQgldAAC</td>\n",
       "      <td>2020-08-29</td>\n",
       "      <td>2.0</td>\n",
       "      <td>6.0</td>\n",
       "      <td>Sim</td>\n",
       "      <td>NaN</td>\n",
       "      <td>Logística</td>\n",
       "      <td>OS</td>\n",
       "      <td>Confirmação/alteração de dados</td>\n",
       "      <td>2020-08-28</td>\n",
       "      <td>RJ</td>\n",
       "      <td>T1</td>\n",
       "      <td>1 days</td>\n",
       "    </tr>\n",
       "  </tbody>\n",
       "</table>\n",
       "</div>"
      ],
      "text/plain": [
       "                   Id        Data  Canal  Espera Atendido Pesquisa_Satisfacao  \\\n",
       "4  0013j00002z0CeEAAU  2020-07-31    2.0    15.0      Sim                 NaN   \n",
       "5  0013j00002z0CeEAAU  2020-07-31    2.0    15.0      Sim                 NaN   \n",
       "6  0013j00002z0CeEAAU  2020-09-23    2.0     1.0      Sim                 NaN   \n",
       "7  0013j00002zQgldAAC  2020-08-29    2.0     6.0      Sim                 NaN   \n",
       "8  0013j00002zQgldAAC  2020-08-29    2.0     6.0      Sim                 NaN   \n",
       "\n",
       "  Assunto_Principal                SubAssunto_01  \\\n",
       "4            Pedido                 Cancelamento   \n",
       "5           Produto              Cartão pré-pago   \n",
       "6        Aplicativo  Dúvidas funcionalidades App   \n",
       "7        Aplicativo  Dúvidas funcionalidades App   \n",
       "8         Logística                           OS   \n",
       "\n",
       "                    SubAssunto_02 Data_Credenciamento Estado_Entrega  \\\n",
       "4                          Outros          2020-07-28             RJ   \n",
       "5                         Dúvidas          2020-07-28             RJ   \n",
       "6            Redefinição de senha          2020-07-28             RJ   \n",
       "7                  Prazos e taxas          2020-08-28             RJ   \n",
       "8  Confirmação/alteração de dados          2020-08-28             RJ   \n",
       "\n",
       "  Produto_Adquirido Dias_Credenciado  \n",
       "4                T3           3 days  \n",
       "5                T3           3 days  \n",
       "6                T3          57 days  \n",
       "7                T1           1 days  \n",
       "8                T1           1 days  "
      ]
     },
     "execution_count": 56,
     "metadata": {},
     "output_type": "execute_result"
    }
   ],
   "source": [
    "cases.head()"
   ]
  },
  {
   "cell_type": "markdown",
   "id": "4d7445d8",
   "metadata": {},
   "source": [
    "#### 4.5 Correlacionando o assunto dos chamados com o produto adquirido"
   ]
  },
  {
   "cell_type": "code",
   "execution_count": 57,
   "id": "799e70dc",
   "metadata": {},
   "outputs": [],
   "source": [
    "#criando um agrupamento das informações a partir do produto adquirido e do assunto do chamado\n",
    "matriz = cases.groupby(['Produto_Adquirido', 'Assunto_Principal']).count()['Id']\n",
    "#transformando a matriz em DataFrame\n",
    "matriz = pd.DataFrame(matriz)\n",
    "#ajustando a matriz para elaborar matriz de contingência\n",
    "matriz = matriz.reset_index().pivot(index='Assunto_Principal', columns='Produto_Adquirido', values='Id').fillna(0)"
   ]
  },
  {
   "cell_type": "code",
   "execution_count": 58,
   "id": "700734d0",
   "metadata": {},
   "outputs": [
    {
     "data": {
      "text/html": [
       "<div>\n",
       "<style scoped>\n",
       "    .dataframe tbody tr th:only-of-type {\n",
       "        vertical-align: middle;\n",
       "    }\n",
       "\n",
       "    .dataframe tbody tr th {\n",
       "        vertical-align: top;\n",
       "    }\n",
       "\n",
       "    .dataframe thead th {\n",
       "        text-align: right;\n",
       "    }\n",
       "</style>\n",
       "<table border=\"1\" class=\"dataframe\">\n",
       "  <thead>\n",
       "    <tr style=\"text-align: right;\">\n",
       "      <th>Produto_Adquirido</th>\n",
       "      <th>NONE</th>\n",
       "      <th>T1</th>\n",
       "      <th>T2</th>\n",
       "      <th>T3</th>\n",
       "    </tr>\n",
       "    <tr>\n",
       "      <th>Assunto_Principal</th>\n",
       "      <th></th>\n",
       "      <th></th>\n",
       "      <th></th>\n",
       "      <th></th>\n",
       "    </tr>\n",
       "  </thead>\n",
       "  <tbody>\n",
       "    <tr>\n",
       "      <th></th>\n",
       "      <td>0.0</td>\n",
       "      <td>21.0</td>\n",
       "      <td>17.0</td>\n",
       "      <td>19.0</td>\n",
       "    </tr>\n",
       "    <tr>\n",
       "      <th>Aplicativo</th>\n",
       "      <td>103.0</td>\n",
       "      <td>3779.0</td>\n",
       "      <td>4631.0</td>\n",
       "      <td>4119.0</td>\n",
       "    </tr>\n",
       "    <tr>\n",
       "      <th>Bandeira</th>\n",
       "      <td>5.0</td>\n",
       "      <td>167.0</td>\n",
       "      <td>236.0</td>\n",
       "      <td>202.0</td>\n",
       "    </tr>\n",
       "    <tr>\n",
       "      <th>Bandeiras</th>\n",
       "      <td>2.0</td>\n",
       "      <td>56.0</td>\n",
       "      <td>48.0</td>\n",
       "      <td>35.0</td>\n",
       "    </tr>\n",
       "    <tr>\n",
       "      <th>Cadastro</th>\n",
       "      <td>36.0</td>\n",
       "      <td>1103.0</td>\n",
       "      <td>1470.0</td>\n",
       "      <td>1275.0</td>\n",
       "    </tr>\n",
       "    <tr>\n",
       "      <th>Comunicados</th>\n",
       "      <td>0.0</td>\n",
       "      <td>7.0</td>\n",
       "      <td>2.0</td>\n",
       "      <td>2.0</td>\n",
       "    </tr>\n",
       "    <tr>\n",
       "      <th>Feedback do cliente</th>\n",
       "      <td>3.0</td>\n",
       "      <td>224.0</td>\n",
       "      <td>298.0</td>\n",
       "      <td>213.0</td>\n",
       "    </tr>\n",
       "    <tr>\n",
       "      <th>Incidente</th>\n",
       "      <td>1.0</td>\n",
       "      <td>101.0</td>\n",
       "      <td>112.0</td>\n",
       "      <td>81.0</td>\n",
       "    </tr>\n",
       "    <tr>\n",
       "      <th>Logística</th>\n",
       "      <td>71.0</td>\n",
       "      <td>2754.0</td>\n",
       "      <td>3602.0</td>\n",
       "      <td>3084.0</td>\n",
       "    </tr>\n",
       "    <tr>\n",
       "      <th>Outros</th>\n",
       "      <td>8.0</td>\n",
       "      <td>188.0</td>\n",
       "      <td>248.0</td>\n",
       "      <td>197.0</td>\n",
       "    </tr>\n",
       "    <tr>\n",
       "      <th>Pedido</th>\n",
       "      <td>22.0</td>\n",
       "      <td>592.0</td>\n",
       "      <td>753.0</td>\n",
       "      <td>628.0</td>\n",
       "    </tr>\n",
       "    <tr>\n",
       "      <th>Produto</th>\n",
       "      <td>123.0</td>\n",
       "      <td>3948.0</td>\n",
       "      <td>4979.0</td>\n",
       "      <td>4369.0</td>\n",
       "    </tr>\n",
       "    <tr>\n",
       "      <th>Risco</th>\n",
       "      <td>1.0</td>\n",
       "      <td>37.0</td>\n",
       "      <td>32.0</td>\n",
       "      <td>37.0</td>\n",
       "    </tr>\n",
       "    <tr>\n",
       "      <th>Telecom</th>\n",
       "      <td>0.0</td>\n",
       "      <td>5.0</td>\n",
       "      <td>9.0</td>\n",
       "      <td>10.0</td>\n",
       "    </tr>\n",
       "    <tr>\n",
       "      <th>Transação</th>\n",
       "      <td>10.0</td>\n",
       "      <td>419.0</td>\n",
       "      <td>522.0</td>\n",
       "      <td>442.0</td>\n",
       "    </tr>\n",
       "    <tr>\n",
       "      <th>Transferência de saldo</th>\n",
       "      <td>21.0</td>\n",
       "      <td>566.0</td>\n",
       "      <td>663.0</td>\n",
       "      <td>610.0</td>\n",
       "    </tr>\n",
       "  </tbody>\n",
       "</table>\n",
       "</div>"
      ],
      "text/plain": [
       "Produto_Adquirido        NONE      T1      T2      T3\n",
       "Assunto_Principal                                    \n",
       "                          0.0    21.0    17.0    19.0\n",
       "Aplicativo              103.0  3779.0  4631.0  4119.0\n",
       "Bandeira                  5.0   167.0   236.0   202.0\n",
       "Bandeiras                 2.0    56.0    48.0    35.0\n",
       "Cadastro                 36.0  1103.0  1470.0  1275.0\n",
       "Comunicados               0.0     7.0     2.0     2.0\n",
       "Feedback do cliente       3.0   224.0   298.0   213.0\n",
       "Incidente                 1.0   101.0   112.0    81.0\n",
       "Logística                71.0  2754.0  3602.0  3084.0\n",
       "Outros                    8.0   188.0   248.0   197.0\n",
       "Pedido                   22.0   592.0   753.0   628.0\n",
       "Produto                 123.0  3948.0  4979.0  4369.0\n",
       "Risco                     1.0    37.0    32.0    37.0\n",
       "Telecom                   0.0     5.0     9.0    10.0\n",
       "Transação                10.0   419.0   522.0   442.0\n",
       "Transferência de saldo   21.0   566.0   663.0   610.0"
      ]
     },
     "execution_count": 58,
     "metadata": {},
     "output_type": "execute_result"
    }
   ],
   "source": [
    "matriz"
   ]
  },
  {
   "cell_type": "code",
   "execution_count": 59,
   "id": "17ba360b",
   "metadata": {},
   "outputs": [
    {
     "name": "stdout",
     "output_type": "stream",
     "text": [
      "chi² = 51.75\n",
      "p = 0.23\n"
     ]
    }
   ],
   "source": [
    "statistic, prob, dof, ex = stats.chi2_contingency(matriz) #teste chi²\n",
    "print(f'chi² = {statistic:.2f}\\np = {prob:.2f}')"
   ]
  },
  {
   "cell_type": "markdown",
   "id": "47c6164a",
   "metadata": {},
   "source": [
    "> Aceitamos a hipótese nula de que não haja correlação de dependência entre as variáveis da matriz."
   ]
  },
  {
   "cell_type": "code",
   "execution_count": 60,
   "id": "16fb2910",
   "metadata": {},
   "outputs": [],
   "source": [
    "matrizDistancia = gower.gower_matrix(matriz) #definindo a matriz de distanciamento"
   ]
  },
  {
   "cell_type": "code",
   "execution_count": 61,
   "id": "139b3386",
   "metadata": {},
   "outputs": [],
   "source": [
    "matrizCluster = DBSCAN(eps=0.5, \n",
    "                       min_samples=5, \n",
    "                       metric='euclidean') #definindo o modelo de clusterização\n",
    "\n",
    "matrizCluster.fit(matrizDistancia) #ajustando o modelo à matriz de distância\n",
    "\n",
    "matriz['cluster'] = matrizCluster.labels_ #incluindo o índice de clusterização na tabela"
   ]
  },
  {
   "cell_type": "code",
   "execution_count": 62,
   "id": "5d672615",
   "metadata": {},
   "outputs": [],
   "source": [
    "resultado = matriz.query('cluster == -1')"
   ]
  },
  {
   "cell_type": "code",
   "execution_count": 63,
   "id": "856e109a",
   "metadata": {},
   "outputs": [
    {
     "name": "stderr",
     "output_type": "stream",
     "text": [
      "C:\\Users\\fvcar\\AppData\\Local\\Temp\\ipykernel_13276\\3879616565.py:2: SettingWithCopyWarning: \n",
      "A value is trying to be set on a copy of a slice from a DataFrame\n",
      "\n",
      "See the caveats in the documentation: https://pandas.pydata.org/pandas-docs/stable/user_guide/indexing.html#returning-a-view-versus-a-copy\n",
      "  resultado.rename(columns={'Assunto_Principal': 'Assunto', 'NONE': 'Vazio', 'cluster': 'Cluster'}, inplace=True)\n",
      "C:\\Users\\fvcar\\AppData\\Local\\Temp\\ipykernel_13276\\3879616565.py:4: SettingWithCopyWarning: \n",
      "A value is trying to be set on a copy of a slice from a DataFrame.\n",
      "Try using .loc[row_indexer,col_indexer] = value instead\n",
      "\n",
      "See the caveats in the documentation: https://pandas.pydata.org/pandas-docs/stable/user_guide/indexing.html#returning-a-view-versus-a-copy\n",
      "  resultado['Cluster'] = resultado['Cluster'].map({-1: 1})\n"
     ]
    }
   ],
   "source": [
    "resultado.reset_index(inplace=True)\n",
    "resultado.rename(columns={'Assunto_Principal': 'Assunto', 'NONE': 'Vazio', 'cluster': 'Cluster'}, inplace=True)\n",
    "resultado.set_index('Assunto', inplace=True)\n",
    "resultado['Cluster'] = resultado['Cluster'].map({-1: 1})"
   ]
  },
  {
   "cell_type": "code",
   "execution_count": 64,
   "id": "4a042cdb",
   "metadata": {},
   "outputs": [
    {
     "data": {
      "text/plain": [
       "7872.0"
      ]
     },
     "execution_count": 64,
     "metadata": {},
     "output_type": "execute_result"
    }
   ],
   "source": [
    "np.sum(np.array(matriz.query(\"cluster == 0\")))"
   ]
  },
  {
   "cell_type": "code",
   "execution_count": 65,
   "id": "fba7415c",
   "metadata": {},
   "outputs": [
    {
     "data": {
      "text/plain": [
       "Produto_Adquirido\n",
       "NONE         73.0\n",
       "T1         2383.0\n",
       "T2         2940.0\n",
       "T3         2476.0\n",
       "cluster       0.0\n",
       "dtype: float64"
      ]
     },
     "execution_count": 65,
     "metadata": {},
     "output_type": "execute_result"
    }
   ],
   "source": [
    "matriz.query(\"cluster == 0\").sum()"
   ]
  },
  {
   "cell_type": "code",
   "execution_count": 66,
   "id": "1be49771",
   "metadata": {},
   "outputs": [
    {
     "data": {
      "text/plain": [
       "39442.0"
      ]
     },
     "execution_count": 66,
     "metadata": {},
     "output_type": "execute_result"
    }
   ],
   "source": [
    "np.sum(np.array(matriz.query(\"cluster == -1\")))"
   ]
  },
  {
   "cell_type": "code",
   "execution_count": 67,
   "id": "b608a96f",
   "metadata": {},
   "outputs": [
    {
     "data": {
      "text/plain": [
       "0.5090012776006917"
      ]
     },
     "execution_count": 67,
     "metadata": {},
     "output_type": "execute_result"
    }
   ],
   "source": [
    "np.sum(np.array(matriz.query(\"cluster == -1\"))) / len(cases)"
   ]
  },
  {
   "cell_type": "code",
   "execution_count": 68,
   "id": "6d5ad489",
   "metadata": {},
   "outputs": [
    {
     "name": "stderr",
     "output_type": "stream",
     "text": [
      "C:\\Users\\fvcar\\AppData\\Local\\Temp\\ipykernel_13276\\1034460821.py:3: SettingWithCopyWarning: \n",
      "A value is trying to be set on a copy of a slice from a DataFrame\n",
      "\n",
      "See the caveats in the documentation: https://pandas.pydata.org/pandas-docs/stable/user_guide/indexing.html#returning-a-view-versus-a-copy\n",
      "  resultado1.rename(columns={'Assunto_Principal': 'Assunto', 'NONE': 'Vazio', 'cluster': 'Cluster'}, inplace=True)\n"
     ]
    }
   ],
   "source": [
    "resultado1 = matriz.query('cluster == 0')\n",
    "resultado1.reset_index(inplace=True)\n",
    "resultado1.rename(columns={'Assunto_Principal': 'Assunto', 'NONE': 'Vazio', 'cluster': 'Cluster'}, inplace=True)\n",
    "resultado1.set_index('Assunto', inplace=True)"
   ]
  },
  {
   "cell_type": "code",
   "execution_count": 69,
   "id": "2fc70abf",
   "metadata": {},
   "outputs": [
    {
     "data": {
      "text/html": [
       "<div>\n",
       "<style scoped>\n",
       "    .dataframe tbody tr th:only-of-type {\n",
       "        vertical-align: middle;\n",
       "    }\n",
       "\n",
       "    .dataframe tbody tr th {\n",
       "        vertical-align: top;\n",
       "    }\n",
       "\n",
       "    .dataframe thead th {\n",
       "        text-align: right;\n",
       "    }\n",
       "</style>\n",
       "<table border=\"1\" class=\"dataframe\">\n",
       "  <thead>\n",
       "    <tr style=\"text-align: right;\">\n",
       "      <th>Produto_Adquirido</th>\n",
       "      <th>Vazio</th>\n",
       "      <th>T1</th>\n",
       "      <th>T2</th>\n",
       "      <th>T3</th>\n",
       "      <th>Cluster</th>\n",
       "    </tr>\n",
       "    <tr>\n",
       "      <th>Assunto</th>\n",
       "      <th></th>\n",
       "      <th></th>\n",
       "      <th></th>\n",
       "      <th></th>\n",
       "      <th></th>\n",
       "    </tr>\n",
       "  </thead>\n",
       "  <tbody>\n",
       "    <tr>\n",
       "      <th></th>\n",
       "      <td>0.0</td>\n",
       "      <td>21.0</td>\n",
       "      <td>17.0</td>\n",
       "      <td>19.0</td>\n",
       "      <td>0</td>\n",
       "    </tr>\n",
       "    <tr>\n",
       "      <th>Bandeira</th>\n",
       "      <td>5.0</td>\n",
       "      <td>167.0</td>\n",
       "      <td>236.0</td>\n",
       "      <td>202.0</td>\n",
       "      <td>0</td>\n",
       "    </tr>\n",
       "    <tr>\n",
       "      <th>Bandeiras</th>\n",
       "      <td>2.0</td>\n",
       "      <td>56.0</td>\n",
       "      <td>48.0</td>\n",
       "      <td>35.0</td>\n",
       "      <td>0</td>\n",
       "    </tr>\n",
       "    <tr>\n",
       "      <th>Comunicados</th>\n",
       "      <td>0.0</td>\n",
       "      <td>7.0</td>\n",
       "      <td>2.0</td>\n",
       "      <td>2.0</td>\n",
       "      <td>0</td>\n",
       "    </tr>\n",
       "    <tr>\n",
       "      <th>Feedback do cliente</th>\n",
       "      <td>3.0</td>\n",
       "      <td>224.0</td>\n",
       "      <td>298.0</td>\n",
       "      <td>213.0</td>\n",
       "      <td>0</td>\n",
       "    </tr>\n",
       "    <tr>\n",
       "      <th>Incidente</th>\n",
       "      <td>1.0</td>\n",
       "      <td>101.0</td>\n",
       "      <td>112.0</td>\n",
       "      <td>81.0</td>\n",
       "      <td>0</td>\n",
       "    </tr>\n",
       "    <tr>\n",
       "      <th>Outros</th>\n",
       "      <td>8.0</td>\n",
       "      <td>188.0</td>\n",
       "      <td>248.0</td>\n",
       "      <td>197.0</td>\n",
       "      <td>0</td>\n",
       "    </tr>\n",
       "    <tr>\n",
       "      <th>Pedido</th>\n",
       "      <td>22.0</td>\n",
       "      <td>592.0</td>\n",
       "      <td>753.0</td>\n",
       "      <td>628.0</td>\n",
       "      <td>0</td>\n",
       "    </tr>\n",
       "    <tr>\n",
       "      <th>Risco</th>\n",
       "      <td>1.0</td>\n",
       "      <td>37.0</td>\n",
       "      <td>32.0</td>\n",
       "      <td>37.0</td>\n",
       "      <td>0</td>\n",
       "    </tr>\n",
       "    <tr>\n",
       "      <th>Telecom</th>\n",
       "      <td>0.0</td>\n",
       "      <td>5.0</td>\n",
       "      <td>9.0</td>\n",
       "      <td>10.0</td>\n",
       "      <td>0</td>\n",
       "    </tr>\n",
       "    <tr>\n",
       "      <th>Transação</th>\n",
       "      <td>10.0</td>\n",
       "      <td>419.0</td>\n",
       "      <td>522.0</td>\n",
       "      <td>442.0</td>\n",
       "      <td>0</td>\n",
       "    </tr>\n",
       "    <tr>\n",
       "      <th>Transferência de saldo</th>\n",
       "      <td>21.0</td>\n",
       "      <td>566.0</td>\n",
       "      <td>663.0</td>\n",
       "      <td>610.0</td>\n",
       "      <td>0</td>\n",
       "    </tr>\n",
       "  </tbody>\n",
       "</table>\n",
       "</div>"
      ],
      "text/plain": [
       "Produto_Adquirido       Vazio     T1     T2     T3  Cluster\n",
       "Assunto                                                    \n",
       "                          0.0   21.0   17.0   19.0        0\n",
       "Bandeira                  5.0  167.0  236.0  202.0        0\n",
       "Bandeiras                 2.0   56.0   48.0   35.0        0\n",
       "Comunicados               0.0    7.0    2.0    2.0        0\n",
       "Feedback do cliente       3.0  224.0  298.0  213.0        0\n",
       "Incidente                 1.0  101.0  112.0   81.0        0\n",
       "Outros                    8.0  188.0  248.0  197.0        0\n",
       "Pedido                   22.0  592.0  753.0  628.0        0\n",
       "Risco                     1.0   37.0   32.0   37.0        0\n",
       "Telecom                   0.0    5.0    9.0   10.0        0\n",
       "Transação                10.0  419.0  522.0  442.0        0\n",
       "Transferência de saldo   21.0  566.0  663.0  610.0        0"
      ]
     },
     "execution_count": 69,
     "metadata": {},
     "output_type": "execute_result"
    }
   ],
   "source": [
    "resultado1"
   ]
  },
  {
   "cell_type": "code",
   "execution_count": 70,
   "id": "fc3bd795",
   "metadata": {},
   "outputs": [
    {
     "data": {
      "text/plain": [
       "{'': 0,\n",
       " 'Aplicativo': -1,\n",
       " 'Bandeira': 0,\n",
       " 'Bandeiras': 0,\n",
       " 'Cadastro': -1,\n",
       " 'Comunicados': 0,\n",
       " 'Feedback do cliente': 0,\n",
       " 'Incidente': 0,\n",
       " 'Logística': -1,\n",
       " 'Outros': 0,\n",
       " 'Pedido': 0,\n",
       " 'Produto': -1,\n",
       " 'Risco': 0,\n",
       " 'Telecom': 0,\n",
       " 'Transação': 0,\n",
       " 'Transferência de saldo': 0}"
      ]
     },
     "execution_count": 70,
     "metadata": {},
     "output_type": "execute_result"
    }
   ],
   "source": [
    "dicionario = {}\n",
    "\n",
    "matriz.reset_index(inplace=True)\n",
    "\n",
    "for i, j in zip(list(matriz['Assunto_Principal']), list(matriz['cluster'])):\n",
    "    dicionario[i] = j\n",
    "\n",
    "dicionario"
   ]
  },
  {
   "cell_type": "code",
   "execution_count": 71,
   "id": "6361a6ee",
   "metadata": {},
   "outputs": [],
   "source": [
    "cases2 = cases.copy()\n",
    "cases2['cluster'] = cases2['Assunto_Principal'].map(dicionario)"
   ]
  },
  {
   "cell_type": "code",
   "execution_count": 72,
   "id": "a59e872a",
   "metadata": {},
   "outputs": [],
   "source": [
    "cases2.to_csv('base_chamados.csv')"
   ]
  },
  {
   "cell_type": "markdown",
   "id": "a812305f",
   "metadata": {},
   "source": [
    "### Gráficos gerados a partir das consultas realizadas no SQL"
   ]
  },
  {
   "cell_type": "code",
   "execution_count": 73,
   "id": "2a75555a",
   "metadata": {},
   "outputs": [],
   "source": [
    "por_estado = pd.read_csv('UF.csv')\n",
    "por_semana = pd.read_csv('ChamadosPorSemana_Clusterizado.csv')\n",
    "serie_historica = pd.read_csv('SerieHistorica_Acumulado.csv')"
   ]
  },
  {
   "cell_type": "code",
   "execution_count": 74,
   "id": "6e54f55c",
   "metadata": {},
   "outputs": [
    {
     "data": {
      "text/plain": [
       "<AxesSubplot: title={'center': 'Chamados Abertos por Estado'}, xlabel='UF', ylabel='Contagem de Chamados'>"
      ]
     },
     "execution_count": 74,
     "metadata": {},
     "output_type": "execute_result"
    },
    {
     "data": {
      "image/png": "[encoded data removed]",
      "text/plain": [
       "<Figure size 1500x800 with 1 Axes>"
      ]
     },
     "metadata": {},
     "output_type": "display_data"
    }
   ],
   "source": [
    "plt.figure(figsize=[15, 8])\n",
    "\n",
    "grafico_uf = sns.barplot(x='UF', \n",
    "                         y='Chamados',\n",
    "                         data=por_estado,\n",
    "                         palette='crest')\n",
    "\n",
    "plt.title('Chamados Abertos por Estado', \n",
    "          size=25,\n",
    "          pad=15)\n",
    "\n",
    "plt.ylabel('Contagem de Chamados', size=16)\n",
    "\n",
    "plt.savefig('grafico_ChamadosUF.png') #salvando o gráfico gerado em uma figura png\n",
    "grafico_uf"
   ]
  },
  {
   "cell_type": "code",
   "execution_count": 75,
   "id": "2d5a554c",
   "metadata": {},
   "outputs": [
    {
     "data": {
      "text/plain": [
       "<AxesSubplot: title={'center': 'Frequência Diária Acumulada D-30 no Intervalo de Apuração'}, xlabel='Série Histórica', ylabel='Frequência Acumulada D-30'>"
      ]
     },
     "execution_count": 75,
     "metadata": {},
     "output_type": "execute_result"
    },
    {
     "data": {
      "image/png": "[encoded data removed]",
      "text/plain": [
       "<Figure size 1500x800 with 1 Axes>"
      ]
     },
     "metadata": {},
     "output_type": "display_data"
    }
   ],
   "source": [
    "plt.figure(figsize=[15, 8])\n",
    "\n",
    "acumulado30 = sns.lineplot(x='Data', \n",
    "                           y='Acumulado_30dias', \n",
    "                           data=serie_historica, \n",
    "                           color='g')\n",
    "\n",
    "plt.title('Frequência Diária Acumulada D-30 no Intervalo de Apuração', \n",
    "          size=25, \n",
    "          pad=15)\n",
    "plt.ylabel('Frequência Acumulada D-30', size=16)\n",
    "plt.xlabel('Série Histórica', size=16)\n",
    "plt.xticks([])\n",
    "\n",
    "plt.axvline(x='2020-08-01', \n",
    "            ymin=0, \n",
    "            ymax=max(analise_chamados['Id']),\n",
    "            color='b',\n",
    "            linestyle='--')\n",
    "\n",
    "plt.annotate('Nova Funcionalidade',\n",
    "             xy=('2020-08-01', 100),\n",
    "             xytext=('2020-08-10', 50),\n",
    "             arrowprops=dict(facecolor='red', shrink=0.05))\n",
    "\n",
    "plt.savefig('grafico_acumulado30.png') #salvando o gráfico gerado em uma figura png\n",
    "acumulado30"
   ]
  },
  {
   "cell_type": "code",
   "execution_count": 76,
   "id": "84735f58",
   "metadata": {},
   "outputs": [],
   "source": [
    "por_semana = por_semana.fillna(0)"
   ]
  },
  {
   "cell_type": "code",
   "execution_count": 77,
   "id": "eebdb794",
   "metadata": {},
   "outputs": [],
   "source": [
    "ps = por_semana.copy()"
   ]
  },
  {
   "cell_type": "code",
   "execution_count": 78,
   "id": "7c3597fe",
   "metadata": {},
   "outputs": [
    {
     "data": {
      "text/plain": [
       "<AxesSubplot: >"
      ]
     },
     "execution_count": 78,
     "metadata": {},
     "output_type": "execute_result"
    },
    {
     "data": {
      "image/png": "[encoded data removed]",
      "text/plain": [
       "<Figure size 640x480 with 1 Axes>"
      ]
     },
     "metadata": {},
     "output_type": "display_data"
    }
   ],
   "source": [
    "sns.boxplot(ps.set_index('Semana'))"
   ]
  },
  {
   "cell_type": "code",
   "execution_count": 79,
   "id": "6be1465b",
   "metadata": {},
   "outputs": [
    {
     "data": {
      "text/plain": [
       "<AxesSubplot: title={'center': 'Chamados Abertos por Semana por Cluster de Assuntos'}, xlabel='Cluster', ylabel='Chamados'>"
      ]
     },
     "execution_count": 79,
     "metadata": {},
     "output_type": "execute_result"
    },
    {
     "data": {
      "image/png": "[encoded data removed]",
      "text/plain": [
       "<Figure size 1500x800 with 1 Axes>"
      ]
     },
     "metadata": {},
     "output_type": "display_data"
    }
   ],
   "source": [
    "plt.figure(figsize=[15, 8])\n",
    "\n",
    "chamados_semana = sns.boxplot(ps.set_index('Semana'),\n",
    "                             color='green',\n",
    "                             medianprops={'color': 'white'})\n",
    "\n",
    "plt.title('Chamados Abertos por Semana por Cluster de Assuntos', \n",
    "          size=25,\n",
    "          pad=15)\n",
    "plt.ylabel('Chamados', size=16)\n",
    "plt.xlabel('Cluster', size=16)\n",
    "\n",
    "ticks, labels = plt.xticks()\n",
    "plt.xticks(ticks, labels=['Grupo Prioritário', 'Grupo Geral'], size=12)\n",
    "\n",
    "plt.savefig('Semana_por_Cluster.png') #salvando o gráfico gerado em uma figura png\n",
    "chamados_semana"
   ]
  },
  {
   "cell_type": "code",
   "execution_count": 80,
   "id": "e1a2fdaa",
   "metadata": {},
   "outputs": [
    {
     "name": "stderr",
     "output_type": "stream",
     "text": [
      "C:\\Users\\fvcar\\AppData\\Local\\Temp\\ipykernel_13276\\1507372579.py:1: FutureWarning: The default value of numeric_only in DataFrameGroupBy.mean is deprecated. In a future version, numeric_only will default to False. Either specify numeric_only or select only columns which should be valid for the function.\n",
      "  assunto = cases.groupby('Assunto_Principal').mean()['Espera']\n",
      "C:\\Users\\fvcar\\AppData\\Local\\Temp\\ipykernel_13276\\1507372579.py:2: FutureWarning: The default value of numeric_only in DataFrameGroupBy.mean is deprecated. In a future version, numeric_only will default to False. Either specify numeric_only or select only columns which should be valid for the function.\n",
      "  uf = cases.groupby('Estado_Entrega').mean()['Espera']\n"
     ]
    }
   ],
   "source": [
    "assunto = cases.groupby('Assunto_Principal').mean()['Espera']\n",
    "uf = cases.groupby('Estado_Entrega').mean()['Espera']"
   ]
  },
  {
   "cell_type": "code",
   "execution_count": 81,
   "id": "6e92634c",
   "metadata": {},
   "outputs": [
    {
     "data": {
      "text/plain": [
       "17.224767386338705"
      ]
     },
     "execution_count": 81,
     "metadata": {},
     "output_type": "execute_result"
    }
   ],
   "source": [
    "cases2['Espera'].mean()"
   ]
  },
  {
   "cell_type": "code",
   "execution_count": 85,
   "id": "1603b7fd",
   "metadata": {},
   "outputs": [],
   "source": [
    "cases2['Pesquisa_Satisfacao'] = cases2['Pesquisa_Satisfacao'].fillna('Não Respondido')"
   ]
  },
  {
   "cell_type": "code",
   "execution_count": 86,
   "id": "a18f51e9",
   "metadata": {},
   "outputs": [
    {
     "data": {
      "text/plain": [
       "Pesquisa_Satisfacao\n",
       "Bom                 425\n",
       "Cansativo             2\n",
       "Enviado            9996\n",
       "Feliz                19\n",
       "Incrivel            899\n",
       "MalAtendido          16\n",
       "NaoResolveu         107\n",
       "Normal              112\n",
       "Não Respondido    65904\n",
       "Pessimo               3\n",
       "Triste                6\n",
       "Name: Id, dtype: int64"
      ]
     },
     "execution_count": 86,
     "metadata": {},
     "output_type": "execute_result"
    }
   ],
   "source": [
    "cases2.groupby('Pesquisa_Satisfacao').count()['Id']"
   ]
  },
  {
   "cell_type": "code",
   "execution_count": 87,
   "id": "bbe677d9",
   "metadata": {},
   "outputs": [],
   "source": [
    "analise = cases2.groupby('Pesquisa_Satisfacao').count()['Id']"
   ]
  },
  {
   "cell_type": "code",
   "execution_count": 88,
   "id": "e5baa763",
   "metadata": {},
   "outputs": [],
   "source": [
    "x = pd.DataFrame(analise)"
   ]
  },
  {
   "cell_type": "code",
   "execution_count": 89,
   "id": "8c67b545",
   "metadata": {},
   "outputs": [],
   "source": [
    "x.reset_index(inplace=True)"
   ]
  },
  {
   "cell_type": "code",
   "execution_count": 90,
   "id": "c4f9e1d6",
   "metadata": {},
   "outputs": [],
   "source": [
    "x = x.query(\"Pesquisa_Satisfacao != 'Enviado' and Pesquisa_Satisfacao != 'Não Respondido'\")"
   ]
  },
  {
   "cell_type": "code",
   "execution_count": 91,
   "id": "9cc81808",
   "metadata": {},
   "outputs": [
    {
     "data": {
      "text/html": [
       "<div>\n",
       "<style scoped>\n",
       "    .dataframe tbody tr th:only-of-type {\n",
       "        vertical-align: middle;\n",
       "    }\n",
       "\n",
       "    .dataframe tbody tr th {\n",
       "        vertical-align: top;\n",
       "    }\n",
       "\n",
       "    .dataframe thead th {\n",
       "        text-align: right;\n",
       "    }\n",
       "</style>\n",
       "<table border=\"1\" class=\"dataframe\">\n",
       "  <thead>\n",
       "    <tr style=\"text-align: right;\">\n",
       "      <th></th>\n",
       "      <th>Id</th>\n",
       "    </tr>\n",
       "    <tr>\n",
       "      <th>Pesquisa_Satisfacao</th>\n",
       "      <th></th>\n",
       "    </tr>\n",
       "  </thead>\n",
       "  <tbody>\n",
       "    <tr>\n",
       "      <th>Bom</th>\n",
       "      <td>425</td>\n",
       "    </tr>\n",
       "    <tr>\n",
       "      <th>Cansativo</th>\n",
       "      <td>2</td>\n",
       "    </tr>\n",
       "    <tr>\n",
       "      <th>Feliz</th>\n",
       "      <td>19</td>\n",
       "    </tr>\n",
       "    <tr>\n",
       "      <th>Incrivel</th>\n",
       "      <td>899</td>\n",
       "    </tr>\n",
       "    <tr>\n",
       "      <th>MalAtendido</th>\n",
       "      <td>16</td>\n",
       "    </tr>\n",
       "    <tr>\n",
       "      <th>NaoResolveu</th>\n",
       "      <td>107</td>\n",
       "    </tr>\n",
       "    <tr>\n",
       "      <th>Normal</th>\n",
       "      <td>112</td>\n",
       "    </tr>\n",
       "    <tr>\n",
       "      <th>Pessimo</th>\n",
       "      <td>3</td>\n",
       "    </tr>\n",
       "    <tr>\n",
       "      <th>Triste</th>\n",
       "      <td>6</td>\n",
       "    </tr>\n",
       "  </tbody>\n",
       "</table>\n",
       "</div>"
      ],
      "text/plain": [
       "                      Id\n",
       "Pesquisa_Satisfacao     \n",
       "Bom                  425\n",
       "Cansativo              2\n",
       "Feliz                 19\n",
       "Incrivel             899\n",
       "MalAtendido           16\n",
       "NaoResolveu          107\n",
       "Normal               112\n",
       "Pessimo                3\n",
       "Triste                 6"
      ]
     },
     "execution_count": 91,
     "metadata": {},
     "output_type": "execute_result"
    }
   ],
   "source": [
    "x.set_index('Pesquisa_Satisfacao')"
   ]
  },
  {
   "cell_type": "code",
   "execution_count": 93,
   "id": "dc4bf71e",
   "metadata": {},
   "outputs": [],
   "source": [
    "lbl = list(x.reset_index()['Pesquisa_Satisfacao'])"
   ]
  },
  {
   "cell_type": "code",
   "execution_count": 117,
   "id": "99d1990f",
   "metadata": {},
   "outputs": [
    {
     "data": {
      "image/png": "[encoded data removed]",
      "text/plain": [
       "<Figure size 1500x800 with 1 Axes>"
      ]
     },
     "metadata": {},
     "output_type": "display_data"
    }
   ],
   "source": [
    "plt.figure(figsize=[15, 8])\n",
    "cores= ['#00FA9A', '#00FF7F', '#00CED1', '#2F4F4F', '#32CD32', '#ADFF2F', '#9ACD32', '#66CDAA', '#7FFFD4']\n",
    "\n",
    "_, texts, autotexts = plt.pie(x='Id', data=x, labels=lbl, labeldistance=1.15, colors=cores, autopct='%1.1f%%')\n",
    "plt.title('Avaliação do Cliente ao Atendimento Prestado', size=25, pad=15)\n",
    "plt.setp(autotexts, size=15)\n",
    "plt.setp(texts, size=15)\n",
    "\n",
    "plt.savefig('Avalia.png')"
   ]
  }
 ],
 "metadata": {
  "kernelspec": {
   "display_name": "Python 3 (ipykernel)",
   "language": "python",
   "name": "python3"
  },
  "language_info": {
   "codemirror_mode": {
    "name": "ipython",
    "version": 3
   },
   "file_extension": ".py",
   "mimetype": "text/x-python",
   "name": "python",
   "nbconvert_exporter": "python",
   "pygments_lexer": "ipython3",
   "version": "3.10.6"
  }
 },
 "nbformat": 4,
 "nbformat_minor": 5
}
